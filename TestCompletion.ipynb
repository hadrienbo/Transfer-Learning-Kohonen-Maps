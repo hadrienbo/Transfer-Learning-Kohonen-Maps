{
  "nbformat": 4,
  "nbformat_minor": 0,
  "metadata": {
    "colab": {
      "name": "TestCompletion.ipynb",
      "provenance": [],
      "collapsed_sections": []
    },
    "kernelspec": {
      "name": "python3",
      "display_name": "Python 3"
    }
  },
  "cells": [
    {
      "cell_type": "code",
      "metadata": {
        "id": "1dvOiSyFxj-4"
      },
      "source": [
        "%matplotlib inline"
      ],
      "execution_count": null,
      "outputs": []
    },
    {
      "cell_type": "code",
      "metadata": {
        "id": "F0Y2oz6Qxj_g"
      },
      "source": [
        "#-----------------------------------------------------------\n",
        "import math\n",
        "import numpy as np\n",
        "import scipy.io\n",
        "import matplotlib.pyplot as plt\n",
        "from matplotlib import cm        # module palettes de couleurs\n",
        "import pandas as pd\n",
        "import seaborn as sn\n",
        "from sklearn.decomposition import PCA\n",
        "from numpy import asarray\n",
        "from numpy import save\n",
        "from numpy import load\n",
        "#-----------------------------------------------------------\n",
        "plt.rcParams['font.size'] = 18\n",
        "plt.rcParams['figure.figsize'] = (18, 6)\n",
        "#np.set_printoptions(edgeitems=10)\n",
        "np.set_printoptions(linewidth = 220)\n",
        "np.set_printoptions(precision=4)\n",
        "#np.set_printoptions(precision=3,formatter={'float': '{:9.3f}'.format})\n",
        "pd.set_option('precision', 5)\n",
        "pd.set_option(\"display.max_columns\",20)\n",
        "pd.set_option('display.max_rows', 999)\n",
        "#pd.set_option('max_colwidth', 6)"
      ],
      "execution_count": null,
      "outputs": []
    },
    {
      "cell_type": "code",
      "metadata": {
        "id": "E0ry95W3ybxN"
      },
      "source": [
        "from pydrive.auth import GoogleAuth\n",
        "from pydrive.drive import GoogleDrive\n",
        "from google.colab import auth\n",
        "from oauth2client.client import GoogleCredentials\n",
        "import os\n",
        "from datetime import datetime\n",
        "from random import *"
      ],
      "execution_count": null,
      "outputs": []
    },
    {
      "cell_type": "code",
      "metadata": {
        "colab": {
          "base_uri": "https://localhost:8080/"
        },
        "id": "QJ7ET7C2yclB",
        "outputId": "1d2356bc-8c2c-46d6-a68a-9fa06337cd13"
      },
      "source": [
        "from google.colab import drive\n",
        "drive.mount('/content/drive/')"
      ],
      "execution_count": null,
      "outputs": [
        {
          "output_type": "stream",
          "text": [
            "Mounted at /content/drive/\n"
          ],
          "name": "stdout"
        }
      ]
    },
    {
      "cell_type": "code",
      "metadata": {
        "colab": {
          "base_uri": "https://localhost:8080/",
          "height": 253
        },
        "id": "qntFrwqTJuH1",
        "outputId": "b5dd9e51-d825-42dc-9396-972ff83f59e8"
      },
      "source": [
        "fichier=\"/content/drive/MyDrive/projet_long/data_100_rearranged.csv\"\n",
        "df100 = pd.read_csv(fichier,sep=\",\")\n",
        "df100.head()"
      ],
      "execution_count": null,
      "outputs": [
        {
          "output_type": "execute_result",
          "data": {
            "text/html": [
              "<div>\n",
              "<style scoped>\n",
              "    .dataframe tbody tr th:only-of-type {\n",
              "        vertical-align: middle;\n",
              "    }\n",
              "\n",
              "    .dataframe tbody tr th {\n",
              "        vertical-align: top;\n",
              "    }\n",
              "\n",
              "    .dataframe thead th {\n",
              "        text-align: right;\n",
              "    }\n",
              "</style>\n",
              "<table border=\"1\" class=\"dataframe\">\n",
              "  <thead>\n",
              "    <tr style=\"text-align: right;\">\n",
              "      <th></th>\n",
              "      <th>combined_station</th>\n",
              "      <th>total_chla_5.0</th>\n",
              "      <th>total_chla_13.92</th>\n",
              "      <th>total_chla_23.23</th>\n",
              "      <th>total_chla_38.75</th>\n",
              "      <th>total_chla_64.63</th>\n",
              "      <th>total_chla_107.81</th>\n",
              "      <th>total_chla_179.85</th>\n",
              "      <th>DVchla_5.0</th>\n",
              "      <th>DVchla_13.92</th>\n",
              "      <th>...</th>\n",
              "      <th>RRS443</th>\n",
              "      <th>RRS412</th>\n",
              "      <th>KD490</th>\n",
              "      <th>KDPAR</th>\n",
              "      <th>PAR</th>\n",
              "      <th>ZEU</th>\n",
              "      <th>ZHL</th>\n",
              "      <th>day</th>\n",
              "      <th>month</th>\n",
              "      <th>year</th>\n",
              "    </tr>\n",
              "  </thead>\n",
              "  <tbody>\n",
              "    <tr>\n",
              "      <th>0</th>\n",
              "      <td>combined_station_1</td>\n",
              "      <td>0.30900</td>\n",
              "      <td>0.483</td>\n",
              "      <td>0.87500</td>\n",
              "      <td>1.15500</td>\n",
              "      <td>0.71800</td>\n",
              "      <td>0.75700</td>\n",
              "      <td>0.04700</td>\n",
              "      <td>0.00000</td>\n",
              "      <td>0.0</td>\n",
              "      <td>...</td>\n",
              "      <td>NaN</td>\n",
              "      <td>NaN</td>\n",
              "      <td>NaN</td>\n",
              "      <td>NaN</td>\n",
              "      <td>NaN</td>\n",
              "      <td>NaN</td>\n",
              "      <td>NaN</td>\n",
              "      <td>13</td>\n",
              "      <td>5</td>\n",
              "      <td>1991</td>\n",
              "    </tr>\n",
              "    <tr>\n",
              "      <th>1</th>\n",
              "      <td>combined_station_10</td>\n",
              "      <td>0.15600</td>\n",
              "      <td>0.157</td>\n",
              "      <td>0.06500</td>\n",
              "      <td>0.26750</td>\n",
              "      <td>0.41500</td>\n",
              "      <td>0.21900</td>\n",
              "      <td>0.02550</td>\n",
              "      <td>0.00000</td>\n",
              "      <td>0.0</td>\n",
              "      <td>...</td>\n",
              "      <td>NaN</td>\n",
              "      <td>NaN</td>\n",
              "      <td>NaN</td>\n",
              "      <td>NaN</td>\n",
              "      <td>NaN</td>\n",
              "      <td>NaN</td>\n",
              "      <td>NaN</td>\n",
              "      <td>16</td>\n",
              "      <td>5</td>\n",
              "      <td>1991</td>\n",
              "    </tr>\n",
              "    <tr>\n",
              "      <th>2</th>\n",
              "      <td>combined_station_100</td>\n",
              "      <td>0.09472</td>\n",
              "      <td>NaN</td>\n",
              "      <td>0.08560</td>\n",
              "      <td>0.24183</td>\n",
              "      <td>0.29462</td>\n",
              "      <td>0.02910</td>\n",
              "      <td>NaN</td>\n",
              "      <td>0.00648</td>\n",
              "      <td>NaN</td>\n",
              "      <td>...</td>\n",
              "      <td>NaN</td>\n",
              "      <td>NaN</td>\n",
              "      <td>NaN</td>\n",
              "      <td>NaN</td>\n",
              "      <td>34.83345</td>\n",
              "      <td>NaN</td>\n",
              "      <td>NaN</td>\n",
              "      <td>30</td>\n",
              "      <td>9</td>\n",
              "      <td>1999</td>\n",
              "    </tr>\n",
              "    <tr>\n",
              "      <th>3</th>\n",
              "      <td>combined_station_101</td>\n",
              "      <td>0.09657</td>\n",
              "      <td>NaN</td>\n",
              "      <td>0.13969</td>\n",
              "      <td>0.21097</td>\n",
              "      <td>0.30578</td>\n",
              "      <td>0.02291</td>\n",
              "      <td>0.00622</td>\n",
              "      <td>0.01217</td>\n",
              "      <td>NaN</td>\n",
              "      <td>...</td>\n",
              "      <td>0.00591</td>\n",
              "      <td>0.00582</td>\n",
              "      <td>0.04342</td>\n",
              "      <td>0.07659</td>\n",
              "      <td>34.12751</td>\n",
              "      <td>70.15463</td>\n",
              "      <td>26.1147</td>\n",
              "      <td>1</td>\n",
              "      <td>10</td>\n",
              "      <td>1999</td>\n",
              "    </tr>\n",
              "    <tr>\n",
              "      <th>4</th>\n",
              "      <td>combined_station_102</td>\n",
              "      <td>0.32600</td>\n",
              "      <td>0.342</td>\n",
              "      <td>0.33600</td>\n",
              "      <td>0.32200</td>\n",
              "      <td>0.09450</td>\n",
              "      <td>0.05150</td>\n",
              "      <td>0.14167</td>\n",
              "      <td>0.00000</td>\n",
              "      <td>0.0</td>\n",
              "      <td>...</td>\n",
              "      <td>NaN</td>\n",
              "      <td>NaN</td>\n",
              "      <td>NaN</td>\n",
              "      <td>NaN</td>\n",
              "      <td>NaN</td>\n",
              "      <td>NaN</td>\n",
              "      <td>NaN</td>\n",
              "      <td>1</td>\n",
              "      <td>2</td>\n",
              "      <td>1994</td>\n",
              "    </tr>\n",
              "  </tbody>\n",
              "</table>\n",
              "<p>5 rows × 59 columns</p>\n",
              "</div>"
            ],
            "text/plain": [
              "       combined_station  total_chla_5.0  total_chla_13.92  total_chla_23.23  \\\n",
              "0    combined_station_1         0.30900             0.483           0.87500   \n",
              "1   combined_station_10         0.15600             0.157           0.06500   \n",
              "2  combined_station_100         0.09472               NaN           0.08560   \n",
              "3  combined_station_101         0.09657               NaN           0.13969   \n",
              "4  combined_station_102         0.32600             0.342           0.33600   \n",
              "\n",
              "   total_chla_38.75  total_chla_64.63  total_chla_107.81  total_chla_179.85  \\\n",
              "0           1.15500           0.71800            0.75700            0.04700   \n",
              "1           0.26750           0.41500            0.21900            0.02550   \n",
              "2           0.24183           0.29462            0.02910                NaN   \n",
              "3           0.21097           0.30578            0.02291            0.00622   \n",
              "4           0.32200           0.09450            0.05150            0.14167   \n",
              "\n",
              "   DVchla_5.0  DVchla_13.92  ...   RRS443   RRS412    KD490    KDPAR  \\\n",
              "0     0.00000           0.0  ...      NaN      NaN      NaN      NaN   \n",
              "1     0.00000           0.0  ...      NaN      NaN      NaN      NaN   \n",
              "2     0.00648           NaN  ...      NaN      NaN      NaN      NaN   \n",
              "3     0.01217           NaN  ...  0.00591  0.00582  0.04342  0.07659   \n",
              "4     0.00000           0.0  ...      NaN      NaN      NaN      NaN   \n",
              "\n",
              "        PAR       ZEU      ZHL  day  month  year  \n",
              "0       NaN       NaN      NaN   13      5  1991  \n",
              "1       NaN       NaN      NaN   16      5  1991  \n",
              "2  34.83345       NaN      NaN   30      9  1999  \n",
              "3  34.12751  70.15463  26.1147    1     10  1999  \n",
              "4       NaN       NaN      NaN    1      2  1994  \n",
              "\n",
              "[5 rows x 59 columns]"
            ]
          },
          "metadata": {
            "tags": []
          },
          "execution_count": 234
        }
      ]
    },
    {
      "cell_type": "code",
      "metadata": {
        "colab": {
          "base_uri": "https://localhost:8080/",
          "height": 253
        },
        "id": "9yMfnfM-BzZe",
        "outputId": "015279a1-6cf1-4615-f8b2-8e66f1246f24"
      },
      "source": [
        "fichier=\"/content/drive/MyDrive/projet_long/data_50_rearranged.csv\"\n",
        "df50 = pd.read_csv(fichier,sep=\",\")\n",
        "df50.head()"
      ],
      "execution_count": null,
      "outputs": [
        {
          "output_type": "execute_result",
          "data": {
            "text/html": [
              "<div>\n",
              "<style scoped>\n",
              "    .dataframe tbody tr th:only-of-type {\n",
              "        vertical-align: middle;\n",
              "    }\n",
              "\n",
              "    .dataframe tbody tr th {\n",
              "        vertical-align: top;\n",
              "    }\n",
              "\n",
              "    .dataframe thead th {\n",
              "        text-align: right;\n",
              "    }\n",
              "</style>\n",
              "<table border=\"1\" class=\"dataframe\">\n",
              "  <thead>\n",
              "    <tr style=\"text-align: right;\">\n",
              "      <th></th>\n",
              "      <th>combined_station</th>\n",
              "      <th>total_chla_5.0</th>\n",
              "      <th>total_chla_13.92</th>\n",
              "      <th>total_chla_23.23</th>\n",
              "      <th>total_chla_38.75</th>\n",
              "      <th>total_chla_64.63</th>\n",
              "      <th>total_chla_107.81</th>\n",
              "      <th>total_chla_179.85</th>\n",
              "      <th>DVchla_5.0</th>\n",
              "      <th>DVchla_13.92</th>\n",
              "      <th>...</th>\n",
              "      <th>RRS443</th>\n",
              "      <th>RRS412</th>\n",
              "      <th>KD490</th>\n",
              "      <th>KDPAR</th>\n",
              "      <th>PAR</th>\n",
              "      <th>ZEU</th>\n",
              "      <th>ZHL</th>\n",
              "      <th>day</th>\n",
              "      <th>month</th>\n",
              "      <th>year</th>\n",
              "    </tr>\n",
              "  </thead>\n",
              "  <tbody>\n",
              "    <tr>\n",
              "      <th>0</th>\n",
              "      <td>combined_station_1</td>\n",
              "      <td>0.30900</td>\n",
              "      <td>0.483</td>\n",
              "      <td>0.87500</td>\n",
              "      <td>1.15500</td>\n",
              "      <td>0.71800</td>\n",
              "      <td>0.75700</td>\n",
              "      <td>0.04700</td>\n",
              "      <td>0.00000</td>\n",
              "      <td>0.0</td>\n",
              "      <td>...</td>\n",
              "      <td>NaN</td>\n",
              "      <td>NaN</td>\n",
              "      <td>NaN</td>\n",
              "      <td>NaN</td>\n",
              "      <td>NaN</td>\n",
              "      <td>NaN</td>\n",
              "      <td>NaN</td>\n",
              "      <td>13</td>\n",
              "      <td>5</td>\n",
              "      <td>1991</td>\n",
              "    </tr>\n",
              "    <tr>\n",
              "      <th>1</th>\n",
              "      <td>combined_station_10</td>\n",
              "      <td>0.15600</td>\n",
              "      <td>0.157</td>\n",
              "      <td>0.06500</td>\n",
              "      <td>0.26750</td>\n",
              "      <td>0.41500</td>\n",
              "      <td>0.21900</td>\n",
              "      <td>0.02550</td>\n",
              "      <td>0.00000</td>\n",
              "      <td>0.0</td>\n",
              "      <td>...</td>\n",
              "      <td>NaN</td>\n",
              "      <td>NaN</td>\n",
              "      <td>NaN</td>\n",
              "      <td>NaN</td>\n",
              "      <td>NaN</td>\n",
              "      <td>NaN</td>\n",
              "      <td>NaN</td>\n",
              "      <td>16</td>\n",
              "      <td>5</td>\n",
              "      <td>1991</td>\n",
              "    </tr>\n",
              "    <tr>\n",
              "      <th>2</th>\n",
              "      <td>combined_station_100</td>\n",
              "      <td>0.09472</td>\n",
              "      <td>NaN</td>\n",
              "      <td>0.08560</td>\n",
              "      <td>0.24183</td>\n",
              "      <td>0.29462</td>\n",
              "      <td>0.02910</td>\n",
              "      <td>NaN</td>\n",
              "      <td>0.00648</td>\n",
              "      <td>NaN</td>\n",
              "      <td>...</td>\n",
              "      <td>NaN</td>\n",
              "      <td>NaN</td>\n",
              "      <td>NaN</td>\n",
              "      <td>NaN</td>\n",
              "      <td>34.83345</td>\n",
              "      <td>NaN</td>\n",
              "      <td>NaN</td>\n",
              "      <td>30</td>\n",
              "      <td>9</td>\n",
              "      <td>1999</td>\n",
              "    </tr>\n",
              "    <tr>\n",
              "      <th>3</th>\n",
              "      <td>combined_station_101</td>\n",
              "      <td>0.09657</td>\n",
              "      <td>NaN</td>\n",
              "      <td>0.13969</td>\n",
              "      <td>0.21097</td>\n",
              "      <td>0.30578</td>\n",
              "      <td>0.02291</td>\n",
              "      <td>0.00622</td>\n",
              "      <td>0.01217</td>\n",
              "      <td>NaN</td>\n",
              "      <td>...</td>\n",
              "      <td>0.00591</td>\n",
              "      <td>0.00582</td>\n",
              "      <td>0.04342</td>\n",
              "      <td>0.07659</td>\n",
              "      <td>34.12751</td>\n",
              "      <td>70.15463</td>\n",
              "      <td>26.1147</td>\n",
              "      <td>1</td>\n",
              "      <td>10</td>\n",
              "      <td>1999</td>\n",
              "    </tr>\n",
              "    <tr>\n",
              "      <th>4</th>\n",
              "      <td>combined_station_102</td>\n",
              "      <td>0.32600</td>\n",
              "      <td>0.342</td>\n",
              "      <td>0.33600</td>\n",
              "      <td>0.32200</td>\n",
              "      <td>0.09450</td>\n",
              "      <td>0.05150</td>\n",
              "      <td>0.14167</td>\n",
              "      <td>0.00000</td>\n",
              "      <td>0.0</td>\n",
              "      <td>...</td>\n",
              "      <td>NaN</td>\n",
              "      <td>NaN</td>\n",
              "      <td>NaN</td>\n",
              "      <td>NaN</td>\n",
              "      <td>NaN</td>\n",
              "      <td>NaN</td>\n",
              "      <td>NaN</td>\n",
              "      <td>1</td>\n",
              "      <td>2</td>\n",
              "      <td>1994</td>\n",
              "    </tr>\n",
              "  </tbody>\n",
              "</table>\n",
              "<p>5 rows × 59 columns</p>\n",
              "</div>"
            ],
            "text/plain": [
              "       combined_station  total_chla_5.0  total_chla_13.92  total_chla_23.23  \\\n",
              "0    combined_station_1         0.30900             0.483           0.87500   \n",
              "1   combined_station_10         0.15600             0.157           0.06500   \n",
              "2  combined_station_100         0.09472               NaN           0.08560   \n",
              "3  combined_station_101         0.09657               NaN           0.13969   \n",
              "4  combined_station_102         0.32600             0.342           0.33600   \n",
              "\n",
              "   total_chla_38.75  total_chla_64.63  total_chla_107.81  total_chla_179.85  \\\n",
              "0           1.15500           0.71800            0.75700            0.04700   \n",
              "1           0.26750           0.41500            0.21900            0.02550   \n",
              "2           0.24183           0.29462            0.02910                NaN   \n",
              "3           0.21097           0.30578            0.02291            0.00622   \n",
              "4           0.32200           0.09450            0.05150            0.14167   \n",
              "\n",
              "   DVchla_5.0  DVchla_13.92  ...   RRS443   RRS412    KD490    KDPAR  \\\n",
              "0     0.00000           0.0  ...      NaN      NaN      NaN      NaN   \n",
              "1     0.00000           0.0  ...      NaN      NaN      NaN      NaN   \n",
              "2     0.00648           NaN  ...      NaN      NaN      NaN      NaN   \n",
              "3     0.01217           NaN  ...  0.00591  0.00582  0.04342  0.07659   \n",
              "4     0.00000           0.0  ...      NaN      NaN      NaN      NaN   \n",
              "\n",
              "        PAR       ZEU      ZHL  day  month  year  \n",
              "0       NaN       NaN      NaN   13      5  1991  \n",
              "1       NaN       NaN      NaN   16      5  1991  \n",
              "2  34.83345       NaN      NaN   30      9  1999  \n",
              "3  34.12751  70.15463  26.1147    1     10  1999  \n",
              "4       NaN       NaN      NaN    1      2  1994  \n",
              "\n",
              "[5 rows x 59 columns]"
            ]
          },
          "metadata": {
            "tags": []
          },
          "execution_count": 235
        }
      ]
    },
    {
      "cell_type": "code",
      "metadata": {
        "colab": {
          "base_uri": "https://localhost:8080/",
          "height": 35
        },
        "id": "VdNhawp3CSJ_",
        "outputId": "a0e9f38e-a933-4794-f8ad-49c01eb91819"
      },
      "source": [
        "df50.columns[44]"
      ],
      "execution_count": null,
      "outputs": [
        {
          "output_type": "execute_result",
          "data": {
            "application/vnd.google.colaboratory.intrinsic+json": {
              "type": "string"
            },
            "text/plain": [
              "'lat_sat'"
            ]
          },
          "metadata": {
            "tags": []
          },
          "execution_count": 7
        }
      ]
    },
    {
      "cell_type": "code",
      "metadata": {
        "id": "rFTIIY6HCWSw"
      },
      "source": [
        "n=40\n",
        "s=0\n",
        "L50=[]\n",
        "L100=[]\n",
        "while s<=n :\n",
        "  i=randint(0,df50.shape[0]-1)\n",
        "  j=randint(1,42)\n",
        "  if pd.isna(df50.iloc[i,j])==False:\n",
        "    L50.append((i,j))\n",
        "    s+=1\n",
        "    for k in range(df100.shape[0]):\n",
        "      if df100.iloc[k,43]==df50.iloc[i,43] and df100.iloc[k,44]==df50.iloc[i,44] and df100.iloc[k,56]==df50.iloc[i,56] and df100.iloc[k,57]==df50.iloc[i,57] and df100.iloc[k,58]==df50.iloc[i,58]:\n",
        "        L100.append((k,j))"
      ],
      "execution_count": null,
      "outputs": []
    },
    {
      "cell_type": "code",
      "metadata": {
        "colab": {
          "base_uri": "https://localhost:8080/"
        },
        "id": "kHhiclxkFVC_",
        "outputId": "215f6f93-2e1e-4039-9e44-85e6c79db254"
      },
      "source": [
        "L50"
      ],
      "execution_count": null,
      "outputs": [
        {
          "output_type": "execute_result",
          "data": {
            "text/plain": [
              "[(297, 30),\n",
              " (68, 20),\n",
              " (564, 26),\n",
              " (715, 21),\n",
              " (226, 14),\n",
              " (326, 8),\n",
              " (158, 15),\n",
              " (420, 30),\n",
              " (75, 21),\n",
              " (563, 33),\n",
              " (388, 26),\n",
              " (392, 14),\n",
              " (455, 29),\n",
              " (688, 34),\n",
              " (428, 23),\n",
              " (398, 37),\n",
              " (273, 36),\n",
              " (485, 17),\n",
              " (223, 21),\n",
              " (451, 33),\n",
              " (663, 35),\n",
              " (354, 37),\n",
              " (173, 29),\n",
              " (240, 28),\n",
              " (116, 25),\n",
              " (52, 5),\n",
              " (672, 7),\n",
              " (3, 34),\n",
              " (613, 16),\n",
              " (704, 21),\n",
              " (477, 12),\n",
              " (101, 6),\n",
              " (66, 25),\n",
              " (80, 26),\n",
              " (76, 34),\n",
              " (137, 22),\n",
              " (96, 20),\n",
              " (96, 32),\n",
              " (292, 21),\n",
              " (384, 39),\n",
              " (587, 6)]"
            ]
          },
          "metadata": {
            "tags": []
          },
          "execution_count": 47
        }
      ]
    },
    {
      "cell_type": "code",
      "metadata": {
        "colab": {
          "base_uri": "https://localhost:8080/"
        },
        "id": "vAnzH-IE7_5Q",
        "outputId": "786b6d13-f1f8-42ac-dc00-fb4b2321df57"
      },
      "source": [
        "type(L50)"
      ],
      "execution_count": null,
      "outputs": [
        {
          "output_type": "execute_result",
          "data": {
            "text/plain": [
              "list"
            ]
          },
          "metadata": {
            "tags": []
          },
          "execution_count": 10
        }
      ]
    },
    {
      "cell_type": "code",
      "metadata": {
        "colab": {
          "base_uri": "https://localhost:8080/"
        },
        "id": "xEfRN4kq7Mts",
        "outputId": "2764cb87-6e9c-4d32-b691-7efc8e1be571"
      },
      "source": [
        "len(L100)==len(L50)"
      ],
      "execution_count": null,
      "outputs": [
        {
          "output_type": "execute_result",
          "data": {
            "text/plain": [
              "True"
            ]
          },
          "metadata": {
            "tags": []
          },
          "execution_count": 129
        }
      ]
    },
    {
      "cell_type": "code",
      "metadata": {
        "colab": {
          "base_uri": "https://localhost:8080/"
        },
        "id": "oNXIMDEO6b8B",
        "outputId": "2760c558-d60d-4420-b228-dc781a02ca52"
      },
      "source": [
        "for i in range(len(L50)):\n",
        "  print(df50.iloc[L50[i][0],L50[i][1]],df100.iloc[L100[i][0],L100[i][1]])"
      ],
      "execution_count": null,
      "outputs": [
        {
          "output_type": "stream",
          "text": [
            "0.0 0.0\n",
            "0.022738574 0.022738574\n",
            "0.0135 0.0135\n",
            "0.019 0.019\n",
            "0.021739363 0.021739363\n",
            "0.2 0.2\n",
            "0.03049869 0.03049869\n",
            "0.019 0.019\n",
            "0.00475 0.00475\n",
            "0.0 0.0\n",
            "0.103 0.103\n",
            "0.0 0.0\n",
            "0.0955 0.0955\n",
            "0.66 0.66\n",
            "0.017482566 0.017482566\n",
            "0.444066667 0.444066667\n",
            "0.0 0.0\n",
            "0.027000000000000003 0.027000000000000003\n",
            "0.18 0.18\n",
            "0.08813333300000001 0.08813333300000001\n",
            "0.0 0.0\n",
            "0.0016 0.0016\n",
            "0.003 0.003\n",
            "0.008 0.008\n",
            "0.0177 0.0177\n",
            "0.053333333 0.053333333\n",
            "0.023 0.023\n",
            "0.0 0.0\n",
            "0.0 0.0\n",
            "0.0229 0.0229\n",
            "0.0043 0.0043\n",
            "0.052000000000000005 0.052000000000000005\n",
            "0.045 0.045\n",
            "0.0215 0.0215\n",
            "0.03735 0.03735\n",
            "0.81825 0.81825\n",
            "0.0008222269999999999 0.0008222269999999999\n",
            "0.54085203 0.54085203\n",
            "0.0225 0.0225\n",
            "0.108237684 0.108237684\n",
            "0.006999999999999999 0.006999999999999999\n"
          ],
          "name": "stdout"
        }
      ]
    },
    {
      "cell_type": "code",
      "metadata": {
        "id": "ebzUFKLw6Ght"
      },
      "source": [
        "L50=np.array(L50)\n",
        "save('/content/drive/MyDrive/projet_long/L50_3.npy',L50,allow_pickle=True)"
      ],
      "execution_count": null,
      "outputs": []
    },
    {
      "cell_type": "code",
      "metadata": {
        "colab": {
          "base_uri": "https://localhost:8080/"
        },
        "id": "14Ee3-3_L6Eu",
        "outputId": "ef5ad026-c157-4e9b-bbdd-fe14e582ff04"
      },
      "source": [
        "L100"
      ],
      "execution_count": null,
      "outputs": [
        {
          "output_type": "execute_result",
          "data": {
            "text/plain": [
              "[(27, 12),\n",
              " (193, 38),\n",
              " (115, 33),\n",
              " (7, 31),\n",
              " (215, 42),\n",
              " (754, 2),\n",
              " (211, 8),\n",
              " (48, 15),\n",
              " (571, 29),\n",
              " (306, 24),\n",
              " (109, 27),\n",
              " (74, 29),\n",
              " (38, 19),\n",
              " (762, 3),\n",
              " (218, 28),\n",
              " (461, 5),\n",
              " (434, 9),\n",
              " (778, 9),\n",
              " (53, 26),\n",
              " (429, 5),\n",
              " (39, 11),\n",
              " (613, 34),\n",
              " (44, 8),\n",
              " (309, 27),\n",
              " (663, 31),\n",
              " (464, 20),\n",
              " (726, 12),\n",
              " (59, 35),\n",
              " (637, 14),\n",
              " (467, 16),\n",
              " (387, 32),\n",
              " (705, 3),\n",
              " (74, 23),\n",
              " (398, 15),\n",
              " (330, 20),\n",
              " (444, 6),\n",
              " (139, 14),\n",
              " (223, 3),\n",
              " (787, 20),\n",
              " (138, 19),\n",
              " (81, 13)]"
            ]
          },
          "metadata": {
            "tags": []
          },
          "execution_count": 239
        }
      ]
    },
    {
      "cell_type": "code",
      "metadata": {
        "colab": {
          "base_uri": "https://localhost:8080/"
        },
        "id": "7pI7lG_sYC80",
        "outputId": "37ec16f7-c2c8-4f9f-ad6c-a42281642f59"
      },
      "source": [
        "for i in range(len(L50)):\n",
        "  print(df50.iloc[L50[i][0],L50[i][1]]==df100.iloc[L100[i][0],L100[i][1]])"
      ],
      "execution_count": null,
      "outputs": [
        {
          "output_type": "stream",
          "text": [
            "True\n",
            "True\n",
            "True\n",
            "True\n",
            "True\n",
            "True\n",
            "True\n",
            "True\n",
            "True\n",
            "True\n",
            "True\n",
            "True\n",
            "True\n",
            "True\n",
            "True\n",
            "True\n",
            "True\n",
            "True\n",
            "True\n",
            "True\n",
            "True\n",
            "True\n",
            "True\n",
            "True\n",
            "True\n",
            "True\n",
            "True\n",
            "True\n",
            "True\n",
            "True\n",
            "True\n",
            "True\n",
            "True\n",
            "True\n",
            "True\n",
            "True\n",
            "True\n",
            "True\n",
            "True\n",
            "True\n",
            "True\n"
          ],
          "name": "stdout"
        }
      ]
    },
    {
      "cell_type": "code",
      "metadata": {
        "colab": {
          "base_uri": "https://localhost:8080/"
        },
        "id": "Cj_y0n3u8ZIn",
        "outputId": "08b59229-5e52-476c-c704-9362db1c493c"
      },
      "source": [
        "len(L50)==len(L100)"
      ],
      "execution_count": null,
      "outputs": [
        {
          "output_type": "execute_result",
          "data": {
            "text/plain": [
              "True"
            ]
          },
          "metadata": {
            "tags": []
          },
          "execution_count": 241
        }
      ]
    },
    {
      "cell_type": "code",
      "metadata": {
        "id": "wIdaZAJ_F62j"
      },
      "source": [
        "for (i,j) in L50:\n",
        "   df50.iloc[i,j]=np.nan\n",
        "for (i,j) in L100:\n",
        "   df100.iloc[i,j]=np.nan"
      ],
      "execution_count": null,
      "outputs": []
    },
    {
      "cell_type": "code",
      "metadata": {
        "colab": {
          "base_uri": "https://localhost:8080/"
        },
        "id": "zG_dkskBF_iC",
        "outputId": "642ef535-aa52-4a31-b72f-d0a6460ff4b3"
      },
      "source": [
        "for i in range(len(L50)):\n",
        "  print(df50.iloc[L50[i][0],L50[i][1]],df100.iloc[L100[i][0],L100[i][1]])"
      ],
      "execution_count": null,
      "outputs": [
        {
          "output_type": "stream",
          "text": [
            "nan nan\n",
            "nan nan\n",
            "nan nan\n",
            "nan nan\n",
            "nan nan\n",
            "nan nan\n",
            "nan nan\n",
            "nan nan\n",
            "nan nan\n",
            "nan nan\n",
            "nan nan\n",
            "nan nan\n",
            "nan nan\n",
            "nan nan\n",
            "nan nan\n",
            "nan nan\n",
            "nan nan\n",
            "nan nan\n",
            "nan nan\n",
            "nan nan\n",
            "nan nan\n",
            "nan nan\n",
            "nan nan\n",
            "nan nan\n",
            "nan nan\n",
            "nan nan\n",
            "nan nan\n",
            "nan nan\n",
            "nan nan\n",
            "nan nan\n",
            "nan nan\n",
            "nan nan\n",
            "nan nan\n",
            "nan nan\n",
            "nan nan\n",
            "nan nan\n",
            "nan nan\n",
            "nan nan\n",
            "nan nan\n",
            "nan nan\n",
            "nan nan\n"
          ],
          "name": "stdout"
        }
      ]
    },
    {
      "cell_type": "code",
      "metadata": {
        "id": "mpsPIIqnHm0L",
        "colab": {
          "base_uri": "https://localhost:8080/",
          "height": 214
        },
        "outputId": "162d017a-e048-4329-a22c-6362295e3358"
      },
      "source": [
        "df50.to_csv('data_50_troué_3.csv')\n",
        "!cp data_50_troué_3.csv \"drive/MyDrive/projet_long\"\n",
        "df100.to_csv('data_100_troué_3.csv')\n",
        "!cp data_100_troué_3.csv \"drive/MyDrive/projet_long\""
      ],
      "execution_count": null,
      "outputs": [
        {
          "output_type": "error",
          "ename": "NameError",
          "evalue": "ignored",
          "traceback": [
            "\u001b[0;31m---------------------------------------------------------------------------\u001b[0m",
            "\u001b[0;31mNameError\u001b[0m                                 Traceback (most recent call last)",
            "\u001b[0;32m<ipython-input-5-e0380dec294d>\u001b[0m in \u001b[0;36m<module>\u001b[0;34m()\u001b[0m\n\u001b[0;32m----> 1\u001b[0;31m \u001b[0mdf50\u001b[0m\u001b[0;34m.\u001b[0m\u001b[0mto_csv\u001b[0m\u001b[0;34m(\u001b[0m\u001b[0;34m'data_50_troué_3.csv'\u001b[0m\u001b[0;34m)\u001b[0m\u001b[0;34m\u001b[0m\u001b[0;34m\u001b[0m\u001b[0m\n\u001b[0m\u001b[1;32m      2\u001b[0m \u001b[0mget_ipython\u001b[0m\u001b[0;34m(\u001b[0m\u001b[0;34m)\u001b[0m\u001b[0;34m.\u001b[0m\u001b[0msystem\u001b[0m\u001b[0;34m(\u001b[0m\u001b[0;34m'cp data_50_troué_3.csv \"drive/MyDrive/projet_long\"'\u001b[0m\u001b[0;34m)\u001b[0m\u001b[0;34m\u001b[0m\u001b[0;34m\u001b[0m\u001b[0m\n\u001b[1;32m      3\u001b[0m \u001b[0mdf100\u001b[0m\u001b[0;34m.\u001b[0m\u001b[0mto_csv\u001b[0m\u001b[0;34m(\u001b[0m\u001b[0;34m'data_100_troué_3.csv'\u001b[0m\u001b[0;34m)\u001b[0m\u001b[0;34m\u001b[0m\u001b[0;34m\u001b[0m\u001b[0m\n\u001b[1;32m      4\u001b[0m \u001b[0mget_ipython\u001b[0m\u001b[0;34m(\u001b[0m\u001b[0;34m)\u001b[0m\u001b[0;34m.\u001b[0m\u001b[0msystem\u001b[0m\u001b[0;34m(\u001b[0m\u001b[0;34m'cp data_100_troué_3.csv \"drive/MyDrive/projet_long\"'\u001b[0m\u001b[0;34m)\u001b[0m\u001b[0;34m\u001b[0m\u001b[0;34m\u001b[0m\u001b[0m\n",
            "\u001b[0;31mNameError\u001b[0m: name 'df50' is not defined"
          ]
        }
      ]
    },
    {
      "cell_type": "code",
      "metadata": {
        "id": "q63-fLJjxJ_K"
      },
      "source": [
        "L50=load('/content/drive/MyDrive/projet_long/L50_3.npy').tolist()"
      ],
      "execution_count": null,
      "outputs": []
    },
    {
      "cell_type": "code",
      "metadata": {
        "colab": {
          "base_uri": "https://localhost:8080/"
        },
        "id": "6pItJfl_7ZmA",
        "outputId": "0f217f84-fe5e-4486-e366-aa85ea2e518a"
      },
      "source": [
        "type(L50)"
      ],
      "execution_count": null,
      "outputs": [
        {
          "output_type": "execute_result",
          "data": {
            "text/plain": [
              "list"
            ]
          },
          "metadata": {
            "tags": []
          },
          "execution_count": 6
        }
      ]
    },
    {
      "cell_type": "code",
      "metadata": {
        "colab": {
          "base_uri": "https://localhost:8080/",
          "height": 253
        },
        "id": "Cr6qIU5MQWWP",
        "outputId": "adf28b82-ceeb-435f-aa83-b071a4044f78"
      },
      "source": [
        "fichier=\"/content/drive/MyDrive/projet_long/50COMPLETED_MED_3_400.csv\"\n",
        "dfCOMP_TEST = pd.read_csv(fichier,sep=\";\")\n",
        "dfCOMP_TEST.head()"
      ],
      "execution_count": null,
      "outputs": [
        {
          "output_type": "execute_result",
          "data": {
            "text/html": [
              "<div>\n",
              "<style scoped>\n",
              "    .dataframe tbody tr th:only-of-type {\n",
              "        vertical-align: middle;\n",
              "    }\n",
              "\n",
              "    .dataframe tbody tr th {\n",
              "        vertical-align: top;\n",
              "    }\n",
              "\n",
              "    .dataframe thead th {\n",
              "        text-align: right;\n",
              "    }\n",
              "</style>\n",
              "<table border=\"1\" class=\"dataframe\">\n",
              "  <thead>\n",
              "    <tr style=\"text-align: right;\">\n",
              "      <th></th>\n",
              "      <th>total_chla_5_0</th>\n",
              "      <th>total_chla_13_92</th>\n",
              "      <th>total_chla_23_23</th>\n",
              "      <th>total_chla_38_75</th>\n",
              "      <th>total_chla_64_63</th>\n",
              "      <th>total_chla_107_81</th>\n",
              "      <th>total_chla_179_85</th>\n",
              "      <th>DVchla_5_0</th>\n",
              "      <th>DVchla_13_92</th>\n",
              "      <th>DVchla_23_23</th>\n",
              "      <th>...</th>\n",
              "      <th>perid_64_63</th>\n",
              "      <th>perid_107_81</th>\n",
              "      <th>perid_179_85</th>\n",
              "      <th>zeax_5_0</th>\n",
              "      <th>zeax_13_92</th>\n",
              "      <th>zeax_23_23</th>\n",
              "      <th>zeax_38_75</th>\n",
              "      <th>zeax_64_63</th>\n",
              "      <th>zeax_107_81</th>\n",
              "      <th>zeax_179_85</th>\n",
              "    </tr>\n",
              "  </thead>\n",
              "  <tbody>\n",
              "    <tr>\n",
              "      <th>0</th>\n",
              "      <td>0.30900</td>\n",
              "      <td>0.48300</td>\n",
              "      <td>0.87500</td>\n",
              "      <td>1.15500</td>\n",
              "      <td>0.71800</td>\n",
              "      <td>0.75700</td>\n",
              "      <td>0.04700</td>\n",
              "      <td>0.00000</td>\n",
              "      <td>0.00000</td>\n",
              "      <td>0.00000</td>\n",
              "      <td>...</td>\n",
              "      <td>0.02400</td>\n",
              "      <td>0.0180</td>\n",
              "      <td>0.00000e+00</td>\n",
              "      <td>0.00300</td>\n",
              "      <td>0.00500</td>\n",
              "      <td>0.01100</td>\n",
              "      <td>0.01050</td>\n",
              "      <td>0.00700</td>\n",
              "      <td>0.01067</td>\n",
              "      <td>0.00000</td>\n",
              "    </tr>\n",
              "    <tr>\n",
              "      <th>1</th>\n",
              "      <td>0.15600</td>\n",
              "      <td>0.15700</td>\n",
              "      <td>0.06500</td>\n",
              "      <td>0.26750</td>\n",
              "      <td>0.41500</td>\n",
              "      <td>0.21900</td>\n",
              "      <td>0.02550</td>\n",
              "      <td>0.00000</td>\n",
              "      <td>0.00000</td>\n",
              "      <td>0.00000</td>\n",
              "      <td>...</td>\n",
              "      <td>0.02550</td>\n",
              "      <td>0.0040</td>\n",
              "      <td>0.00000e+00</td>\n",
              "      <td>0.03900</td>\n",
              "      <td>0.04900</td>\n",
              "      <td>0.02000</td>\n",
              "      <td>0.04750</td>\n",
              "      <td>0.02000</td>\n",
              "      <td>0.00367</td>\n",
              "      <td>0.00050</td>\n",
              "    </tr>\n",
              "    <tr>\n",
              "      <th>2</th>\n",
              "      <td>0.09472</td>\n",
              "      <td>0.08726</td>\n",
              "      <td>0.08560</td>\n",
              "      <td>0.24183</td>\n",
              "      <td>0.29462</td>\n",
              "      <td>0.02910</td>\n",
              "      <td>0.00596</td>\n",
              "      <td>0.00648</td>\n",
              "      <td>0.00199</td>\n",
              "      <td>0.00704</td>\n",
              "      <td>...</td>\n",
              "      <td>0.00189</td>\n",
              "      <td>0.0000</td>\n",
              "      <td>1.08420e-19</td>\n",
              "      <td>0.04304</td>\n",
              "      <td>0.04048</td>\n",
              "      <td>0.03877</td>\n",
              "      <td>0.05342</td>\n",
              "      <td>0.01934</td>\n",
              "      <td>0.00000</td>\n",
              "      <td>0.00000</td>\n",
              "    </tr>\n",
              "    <tr>\n",
              "      <th>3</th>\n",
              "      <td>0.09657</td>\n",
              "      <td>0.10213</td>\n",
              "      <td>0.13969</td>\n",
              "      <td>0.21097</td>\n",
              "      <td>0.30578</td>\n",
              "      <td>0.02291</td>\n",
              "      <td>0.00622</td>\n",
              "      <td>0.01217</td>\n",
              "      <td>0.00800</td>\n",
              "      <td>0.01680</td>\n",
              "      <td>...</td>\n",
              "      <td>0.00281</td>\n",
              "      <td>0.0000</td>\n",
              "      <td>0.00000e+00</td>\n",
              "      <td>0.04974</td>\n",
              "      <td>0.04048</td>\n",
              "      <td>0.05318</td>\n",
              "      <td>0.04783</td>\n",
              "      <td>0.02308</td>\n",
              "      <td>0.00000</td>\n",
              "      <td>0.00000</td>\n",
              "    </tr>\n",
              "    <tr>\n",
              "      <th>4</th>\n",
              "      <td>0.32600</td>\n",
              "      <td>0.34200</td>\n",
              "      <td>0.33600</td>\n",
              "      <td>0.32200</td>\n",
              "      <td>0.09450</td>\n",
              "      <td>0.05150</td>\n",
              "      <td>0.14167</td>\n",
              "      <td>0.00000</td>\n",
              "      <td>0.00000</td>\n",
              "      <td>0.00000</td>\n",
              "      <td>...</td>\n",
              "      <td>0.00150</td>\n",
              "      <td>0.0005</td>\n",
              "      <td>0.00000e+00</td>\n",
              "      <td>0.00569</td>\n",
              "      <td>0.00548</td>\n",
              "      <td>0.00561</td>\n",
              "      <td>0.00524</td>\n",
              "      <td>0.00459</td>\n",
              "      <td>0.00299</td>\n",
              "      <td>0.00313</td>\n",
              "    </tr>\n",
              "  </tbody>\n",
              "</table>\n",
              "<p>5 rows × 42 columns</p>\n",
              "</div>"
            ],
            "text/plain": [
              "   total_chla_5_0  total_chla_13_92  total_chla_23_23  total_chla_38_75  \\\n",
              "0         0.30900           0.48300           0.87500           1.15500   \n",
              "1         0.15600           0.15700           0.06500           0.26750   \n",
              "2         0.09472           0.08726           0.08560           0.24183   \n",
              "3         0.09657           0.10213           0.13969           0.21097   \n",
              "4         0.32600           0.34200           0.33600           0.32200   \n",
              "\n",
              "   total_chla_64_63  total_chla_107_81  total_chla_179_85  DVchla_5_0  \\\n",
              "0           0.71800            0.75700            0.04700     0.00000   \n",
              "1           0.41500            0.21900            0.02550     0.00000   \n",
              "2           0.29462            0.02910            0.00596     0.00648   \n",
              "3           0.30578            0.02291            0.00622     0.01217   \n",
              "4           0.09450            0.05150            0.14167     0.00000   \n",
              "\n",
              "   DVchla_13_92  DVchla_23_23  ...  perid_64_63  perid_107_81  perid_179_85  \\\n",
              "0       0.00000       0.00000  ...      0.02400        0.0180   0.00000e+00   \n",
              "1       0.00000       0.00000  ...      0.02550        0.0040   0.00000e+00   \n",
              "2       0.00199       0.00704  ...      0.00189        0.0000   1.08420e-19   \n",
              "3       0.00800       0.01680  ...      0.00281        0.0000   0.00000e+00   \n",
              "4       0.00000       0.00000  ...      0.00150        0.0005   0.00000e+00   \n",
              "\n",
              "   zeax_5_0  zeax_13_92  zeax_23_23  zeax_38_75  zeax_64_63  zeax_107_81  \\\n",
              "0   0.00300     0.00500     0.01100     0.01050     0.00700      0.01067   \n",
              "1   0.03900     0.04900     0.02000     0.04750     0.02000      0.00367   \n",
              "2   0.04304     0.04048     0.03877     0.05342     0.01934      0.00000   \n",
              "3   0.04974     0.04048     0.05318     0.04783     0.02308      0.00000   \n",
              "4   0.00569     0.00548     0.00561     0.00524     0.00459      0.00299   \n",
              "\n",
              "   zeax_179_85  \n",
              "0      0.00000  \n",
              "1      0.00050  \n",
              "2      0.00000  \n",
              "3      0.00000  \n",
              "4      0.00313  \n",
              "\n",
              "[5 rows x 42 columns]"
            ]
          },
          "metadata": {
            "tags": []
          },
          "execution_count": 7
        }
      ]
    },
    {
      "cell_type": "code",
      "metadata": {
        "colab": {
          "base_uri": "https://localhost:8080/",
          "height": 253
        },
        "id": "EzEWbqsrRcKD",
        "outputId": "35a5017e-db79-498d-d4f0-b35c7d4d2801"
      },
      "source": [
        "fichier=\"/content/drive/MyDrive/projet_long/data_50_rearranged.csv\"\n",
        "df50 = pd.read_csv(fichier,sep=\",\")\n",
        "df50.head()"
      ],
      "execution_count": null,
      "outputs": [
        {
          "output_type": "execute_result",
          "data": {
            "text/html": [
              "<div>\n",
              "<style scoped>\n",
              "    .dataframe tbody tr th:only-of-type {\n",
              "        vertical-align: middle;\n",
              "    }\n",
              "\n",
              "    .dataframe tbody tr th {\n",
              "        vertical-align: top;\n",
              "    }\n",
              "\n",
              "    .dataframe thead th {\n",
              "        text-align: right;\n",
              "    }\n",
              "</style>\n",
              "<table border=\"1\" class=\"dataframe\">\n",
              "  <thead>\n",
              "    <tr style=\"text-align: right;\">\n",
              "      <th></th>\n",
              "      <th>combined_station</th>\n",
              "      <th>total_chla_5.0</th>\n",
              "      <th>total_chla_13.92</th>\n",
              "      <th>total_chla_23.23</th>\n",
              "      <th>total_chla_38.75</th>\n",
              "      <th>total_chla_64.63</th>\n",
              "      <th>total_chla_107.81</th>\n",
              "      <th>total_chla_179.85</th>\n",
              "      <th>DVchla_5.0</th>\n",
              "      <th>DVchla_13.92</th>\n",
              "      <th>...</th>\n",
              "      <th>RRS443</th>\n",
              "      <th>RRS412</th>\n",
              "      <th>KD490</th>\n",
              "      <th>KDPAR</th>\n",
              "      <th>PAR</th>\n",
              "      <th>ZEU</th>\n",
              "      <th>ZHL</th>\n",
              "      <th>day</th>\n",
              "      <th>month</th>\n",
              "      <th>year</th>\n",
              "    </tr>\n",
              "  </thead>\n",
              "  <tbody>\n",
              "    <tr>\n",
              "      <th>0</th>\n",
              "      <td>combined_station_1</td>\n",
              "      <td>0.30900</td>\n",
              "      <td>0.483</td>\n",
              "      <td>0.87500</td>\n",
              "      <td>1.15500</td>\n",
              "      <td>0.71800</td>\n",
              "      <td>0.75700</td>\n",
              "      <td>0.04700</td>\n",
              "      <td>0.00000</td>\n",
              "      <td>0.0</td>\n",
              "      <td>...</td>\n",
              "      <td>NaN</td>\n",
              "      <td>NaN</td>\n",
              "      <td>NaN</td>\n",
              "      <td>NaN</td>\n",
              "      <td>NaN</td>\n",
              "      <td>NaN</td>\n",
              "      <td>NaN</td>\n",
              "      <td>13</td>\n",
              "      <td>5</td>\n",
              "      <td>1991</td>\n",
              "    </tr>\n",
              "    <tr>\n",
              "      <th>1</th>\n",
              "      <td>combined_station_10</td>\n",
              "      <td>0.15600</td>\n",
              "      <td>0.157</td>\n",
              "      <td>0.06500</td>\n",
              "      <td>0.26750</td>\n",
              "      <td>0.41500</td>\n",
              "      <td>0.21900</td>\n",
              "      <td>0.02550</td>\n",
              "      <td>0.00000</td>\n",
              "      <td>0.0</td>\n",
              "      <td>...</td>\n",
              "      <td>NaN</td>\n",
              "      <td>NaN</td>\n",
              "      <td>NaN</td>\n",
              "      <td>NaN</td>\n",
              "      <td>NaN</td>\n",
              "      <td>NaN</td>\n",
              "      <td>NaN</td>\n",
              "      <td>16</td>\n",
              "      <td>5</td>\n",
              "      <td>1991</td>\n",
              "    </tr>\n",
              "    <tr>\n",
              "      <th>2</th>\n",
              "      <td>combined_station_100</td>\n",
              "      <td>0.09472</td>\n",
              "      <td>NaN</td>\n",
              "      <td>0.08560</td>\n",
              "      <td>0.24183</td>\n",
              "      <td>0.29462</td>\n",
              "      <td>0.02910</td>\n",
              "      <td>NaN</td>\n",
              "      <td>0.00648</td>\n",
              "      <td>NaN</td>\n",
              "      <td>...</td>\n",
              "      <td>NaN</td>\n",
              "      <td>NaN</td>\n",
              "      <td>NaN</td>\n",
              "      <td>NaN</td>\n",
              "      <td>34.83345</td>\n",
              "      <td>NaN</td>\n",
              "      <td>NaN</td>\n",
              "      <td>30</td>\n",
              "      <td>9</td>\n",
              "      <td>1999</td>\n",
              "    </tr>\n",
              "    <tr>\n",
              "      <th>3</th>\n",
              "      <td>combined_station_101</td>\n",
              "      <td>0.09657</td>\n",
              "      <td>NaN</td>\n",
              "      <td>0.13969</td>\n",
              "      <td>0.21097</td>\n",
              "      <td>0.30578</td>\n",
              "      <td>0.02291</td>\n",
              "      <td>0.00622</td>\n",
              "      <td>0.01217</td>\n",
              "      <td>NaN</td>\n",
              "      <td>...</td>\n",
              "      <td>0.00591</td>\n",
              "      <td>0.00582</td>\n",
              "      <td>0.04342</td>\n",
              "      <td>0.07659</td>\n",
              "      <td>34.12751</td>\n",
              "      <td>70.15463</td>\n",
              "      <td>26.1147</td>\n",
              "      <td>1</td>\n",
              "      <td>10</td>\n",
              "      <td>1999</td>\n",
              "    </tr>\n",
              "    <tr>\n",
              "      <th>4</th>\n",
              "      <td>combined_station_102</td>\n",
              "      <td>0.32600</td>\n",
              "      <td>0.342</td>\n",
              "      <td>0.33600</td>\n",
              "      <td>0.32200</td>\n",
              "      <td>0.09450</td>\n",
              "      <td>0.05150</td>\n",
              "      <td>0.14167</td>\n",
              "      <td>0.00000</td>\n",
              "      <td>0.0</td>\n",
              "      <td>...</td>\n",
              "      <td>NaN</td>\n",
              "      <td>NaN</td>\n",
              "      <td>NaN</td>\n",
              "      <td>NaN</td>\n",
              "      <td>NaN</td>\n",
              "      <td>NaN</td>\n",
              "      <td>NaN</td>\n",
              "      <td>1</td>\n",
              "      <td>2</td>\n",
              "      <td>1994</td>\n",
              "    </tr>\n",
              "  </tbody>\n",
              "</table>\n",
              "<p>5 rows × 59 columns</p>\n",
              "</div>"
            ],
            "text/plain": [
              "       combined_station  total_chla_5.0  total_chla_13.92  total_chla_23.23  \\\n",
              "0    combined_station_1         0.30900             0.483           0.87500   \n",
              "1   combined_station_10         0.15600             0.157           0.06500   \n",
              "2  combined_station_100         0.09472               NaN           0.08560   \n",
              "3  combined_station_101         0.09657               NaN           0.13969   \n",
              "4  combined_station_102         0.32600             0.342           0.33600   \n",
              "\n",
              "   total_chla_38.75  total_chla_64.63  total_chla_107.81  total_chla_179.85  \\\n",
              "0           1.15500           0.71800            0.75700            0.04700   \n",
              "1           0.26750           0.41500            0.21900            0.02550   \n",
              "2           0.24183           0.29462            0.02910                NaN   \n",
              "3           0.21097           0.30578            0.02291            0.00622   \n",
              "4           0.32200           0.09450            0.05150            0.14167   \n",
              "\n",
              "   DVchla_5.0  DVchla_13.92  ...   RRS443   RRS412    KD490    KDPAR  \\\n",
              "0     0.00000           0.0  ...      NaN      NaN      NaN      NaN   \n",
              "1     0.00000           0.0  ...      NaN      NaN      NaN      NaN   \n",
              "2     0.00648           NaN  ...      NaN      NaN      NaN      NaN   \n",
              "3     0.01217           NaN  ...  0.00591  0.00582  0.04342  0.07659   \n",
              "4     0.00000           0.0  ...      NaN      NaN      NaN      NaN   \n",
              "\n",
              "        PAR       ZEU      ZHL  day  month  year  \n",
              "0       NaN       NaN      NaN   13      5  1991  \n",
              "1       NaN       NaN      NaN   16      5  1991  \n",
              "2  34.83345       NaN      NaN   30      9  1999  \n",
              "3  34.12751  70.15463  26.1147    1     10  1999  \n",
              "4       NaN       NaN      NaN    1      2  1994  \n",
              "\n",
              "[5 rows x 59 columns]"
            ]
          },
          "metadata": {
            "tags": []
          },
          "execution_count": 8
        }
      ]
    },
    {
      "cell_type": "code",
      "metadata": {
        "id": "ZPNEZjswcg0c",
        "colab": {
          "base_uri": "https://localhost:8080/"
        },
        "outputId": "f27f9713-e085-4234-a9f3-98087091c6a3"
      },
      "source": [
        "L50"
      ],
      "execution_count": null,
      "outputs": [
        {
          "output_type": "execute_result",
          "data": {
            "text/plain": [
              "[[27, 12],\n",
              " [191, 38],\n",
              " [113, 33],\n",
              " [7, 31],\n",
              " [213, 42],\n",
              " [684, 2],\n",
              " [209, 8],\n",
              " [48, 15],\n",
              " [533, 29],\n",
              " [304, 24],\n",
              " [107, 27],\n",
              " [73, 29],\n",
              " [38, 19],\n",
              " [691, 3],\n",
              " [216, 28],\n",
              " [442, 5],\n",
              " [416, 9],\n",
              " [707, 9],\n",
              " [53, 26],\n",
              " [411, 5],\n",
              " [39, 11],\n",
              " [567, 34],\n",
              " [44, 8],\n",
              " [307, 27],\n",
              " [603, 31],\n",
              " [444, 20],\n",
              " [657, 12],\n",
              " [59, 35],\n",
              " [582, 14],\n",
              " [446, 16],\n",
              " [370, 32],\n",
              " [637, 3],\n",
              " [73, 23],\n",
              " [380, 15],\n",
              " [321, 20],\n",
              " [426, 6],\n",
              " [137, 14],\n",
              " [221, 3],\n",
              " [716, 20],\n",
              " [136, 19],\n",
              " [80, 13]]"
            ]
          },
          "metadata": {
            "tags": []
          },
          "execution_count": 9
        }
      ]
    },
    {
      "cell_type": "code",
      "metadata": {
        "colab": {
          "base_uri": "https://localhost:8080/"
        },
        "id": "0dY1CUuJQ978",
        "outputId": "8e084f9b-fb35-484e-b7b3-649161a1bebc"
      },
      "source": [
        "values_completed=[]\n",
        "for i in range(len(L50)):\n",
        "  values_completed.append(dfCOMP_TEST.iloc[L50[i][0],L50[i][1]-1])\n",
        "  print(dfCOMP_TEST.iloc[L50[i][0],L50[i][1]-1])"
      ],
      "execution_count": null,
      "outputs": [
        {
          "output_type": "stream",
          "text": [
            "-2.63640004432436e-06\n",
            "0.0308866476666667\n",
            "0.00777152775\n",
            "0.019\n",
            "0.0153440530277778\n",
            "0.222129166666667\n",
            "0.0239199865\n",
            "0.0263138888888889\n",
            "0.0040983155348689295\n",
            "0.00662089833333333\n",
            "0.123236111166667\n",
            "0.0013275335\n",
            "0.127625\n",
            "0.5576522472505\n",
            "0.0112460037919909\n",
            "0.582088889\n",
            "1.83800663795929e-05\n",
            "0.024425\n",
            "0.14300000000000002\n",
            "0.19654074077777803\n",
            "0.0\n",
            "0.0024\n",
            "0.0\n",
            "0.016611111\n",
            "0.01475\n",
            "0.0458866666666667\n",
            "0.0145\n",
            "0.00129452241666667\n",
            "7.37334067818333e-07\n",
            "0.0340228350684558\n",
            "0.00416066010015486\n",
            "0.052000000000000005\n",
            "0.03579962\n",
            "0.0227222222222222\n",
            "0.027435416749999997\n",
            "0.9582816665999999\n",
            "0.0\n",
            "0.42232389837168893\n",
            "0.1250125\n",
            "0.04722732575\n",
            "0.0201088349835613\n"
          ],
          "name": "stdout"
        }
      ]
    },
    {
      "cell_type": "code",
      "metadata": {
        "colab": {
          "base_uri": "https://localhost:8080/"
        },
        "id": "WYpSlT97R9Ev",
        "outputId": "6982c01f-7699-4436-93bc-f6d33d1a0c64"
      },
      "source": [
        "target_values=[]\n",
        "for i in range(len(L50)):\n",
        "  target_values.append(df50.iloc[L50[i][0],L50[i][1]])\n",
        "  print(df50.iloc[L50[i][0],L50[i][1]])"
      ],
      "execution_count": null,
      "outputs": [
        {
          "output_type": "stream",
          "text": [
            "0.0\n",
            "0.022738574\n",
            "0.0135\n",
            "0.019\n",
            "0.021739363\n",
            "0.2\n",
            "0.03049869\n",
            "0.019\n",
            "0.00475\n",
            "0.0\n",
            "0.103\n",
            "0.0\n",
            "0.0955\n",
            "0.66\n",
            "0.017482566\n",
            "0.444066667\n",
            "0.0\n",
            "0.027000000000000003\n",
            "0.18\n",
            "0.08813333300000001\n",
            "0.0\n",
            "0.0016\n",
            "0.003\n",
            "0.008\n",
            "0.0177\n",
            "0.053333333\n",
            "0.023\n",
            "0.0\n",
            "0.0\n",
            "0.0229\n",
            "0.0043\n",
            "0.052000000000000005\n",
            "0.045\n",
            "0.0215\n",
            "0.03735\n",
            "0.81825\n",
            "0.0008222269999999999\n",
            "0.54085203\n",
            "0.0225\n",
            "0.108237684\n",
            "0.006999999999999999\n"
          ],
          "name": "stdout"
        }
      ]
    },
    {
      "cell_type": "code",
      "metadata": {
        "colab": {
          "base_uri": "https://localhost:8080/"
        },
        "id": "BnKV94PZZwCg",
        "outputId": "ad03747b-600a-4826-af05-e5bfab244e80"
      },
      "source": [
        "for i in range(len(L50)):\n",
        "  print((target_values[i],values_completed[i]))"
      ],
      "execution_count": null,
      "outputs": [
        {
          "output_type": "stream",
          "text": [
            "(0.0, -2.63640004432436e-06)\n",
            "(0.022738574, 0.0308866476666667)\n",
            "(0.0135, 0.00777152775)\n",
            "(0.019, 0.019)\n",
            "(0.021739363, 0.0153440530277778)\n",
            "(0.2, 0.222129166666667)\n",
            "(0.03049869, 0.0239199865)\n",
            "(0.019, 0.0263138888888889)\n",
            "(0.00475, 0.0040983155348689295)\n",
            "(0.0, 0.00662089833333333)\n",
            "(0.103, 0.123236111166667)\n",
            "(0.0, 0.0013275335)\n",
            "(0.0955, 0.127625)\n",
            "(0.66, 0.5576522472505)\n",
            "(0.017482566, 0.0112460037919909)\n",
            "(0.444066667, 0.582088889)\n",
            "(0.0, 1.83800663795929e-05)\n",
            "(0.027000000000000003, 0.024425)\n",
            "(0.18, 0.14300000000000002)\n",
            "(0.08813333300000001, 0.19654074077777803)\n",
            "(0.0, 0.0)\n",
            "(0.0016, 0.0024)\n",
            "(0.003, 0.0)\n",
            "(0.008, 0.016611111)\n",
            "(0.0177, 0.01475)\n",
            "(0.053333333, 0.0458866666666667)\n",
            "(0.023, 0.0145)\n",
            "(0.0, 0.00129452241666667)\n",
            "(0.0, 7.37334067818333e-07)\n",
            "(0.0229, 0.0340228350684558)\n",
            "(0.0043, 0.00416066010015486)\n",
            "(0.052000000000000005, 0.052000000000000005)\n",
            "(0.045, 0.03579962)\n",
            "(0.0215, 0.0227222222222222)\n",
            "(0.03735, 0.027435416749999997)\n",
            "(0.81825, 0.9582816665999999)\n",
            "(0.0008222269999999999, 0.0)\n",
            "(0.54085203, 0.42232389837168893)\n",
            "(0.0225, 0.1250125)\n",
            "(0.108237684, 0.04722732575)\n",
            "(0.006999999999999999, 0.0201088349835613)\n"
          ],
          "name": "stdout"
        }
      ]
    },
    {
      "cell_type": "code",
      "metadata": {
        "id": "B4b-8_E5Tj-F"
      },
      "source": [
        "A=np.array([target_values,values_completed]).T"
      ],
      "execution_count": null,
      "outputs": []
    },
    {
      "cell_type": "code",
      "metadata": {
        "id": "YT09qUatWSWV"
      },
      "source": [
        "A=pd.DataFrame(A)"
      ],
      "execution_count": null,
      "outputs": []
    },
    {
      "cell_type": "code",
      "metadata": {
        "colab": {
          "base_uri": "https://localhost:8080/",
          "height": 1000
        },
        "id": "GK8kecPQbNlO",
        "outputId": "81e03a57-8c2a-4d25-954a-3bce8ed542d8"
      },
      "source": [
        "A"
      ],
      "execution_count": null,
      "outputs": [
        {
          "output_type": "execute_result",
          "data": {
            "text/html": [
              "<div>\n",
              "<style scoped>\n",
              "    .dataframe tbody tr th:only-of-type {\n",
              "        vertical-align: middle;\n",
              "    }\n",
              "\n",
              "    .dataframe tbody tr th {\n",
              "        vertical-align: top;\n",
              "    }\n",
              "\n",
              "    .dataframe thead th {\n",
              "        text-align: right;\n",
              "    }\n",
              "</style>\n",
              "<table border=\"1\" class=\"dataframe\">\n",
              "  <thead>\n",
              "    <tr style=\"text-align: right;\">\n",
              "      <th></th>\n",
              "      <th>0</th>\n",
              "      <th>1</th>\n",
              "    </tr>\n",
              "  </thead>\n",
              "  <tbody>\n",
              "    <tr>\n",
              "      <th>0</th>\n",
              "      <td>0.00000</td>\n",
              "      <td>-2.63640e-06</td>\n",
              "    </tr>\n",
              "    <tr>\n",
              "      <th>1</th>\n",
              "      <td>0.02274</td>\n",
              "      <td>3.08866e-02</td>\n",
              "    </tr>\n",
              "    <tr>\n",
              "      <th>2</th>\n",
              "      <td>0.01350</td>\n",
              "      <td>7.77153e-03</td>\n",
              "    </tr>\n",
              "    <tr>\n",
              "      <th>3</th>\n",
              "      <td>0.01900</td>\n",
              "      <td>1.90000e-02</td>\n",
              "    </tr>\n",
              "    <tr>\n",
              "      <th>4</th>\n",
              "      <td>0.02174</td>\n",
              "      <td>1.53441e-02</td>\n",
              "    </tr>\n",
              "    <tr>\n",
              "      <th>5</th>\n",
              "      <td>0.20000</td>\n",
              "      <td>2.22129e-01</td>\n",
              "    </tr>\n",
              "    <tr>\n",
              "      <th>6</th>\n",
              "      <td>0.03050</td>\n",
              "      <td>2.39200e-02</td>\n",
              "    </tr>\n",
              "    <tr>\n",
              "      <th>7</th>\n",
              "      <td>0.01900</td>\n",
              "      <td>2.63139e-02</td>\n",
              "    </tr>\n",
              "    <tr>\n",
              "      <th>8</th>\n",
              "      <td>0.00475</td>\n",
              "      <td>4.09832e-03</td>\n",
              "    </tr>\n",
              "    <tr>\n",
              "      <th>9</th>\n",
              "      <td>0.00000</td>\n",
              "      <td>6.62090e-03</td>\n",
              "    </tr>\n",
              "    <tr>\n",
              "      <th>10</th>\n",
              "      <td>0.10300</td>\n",
              "      <td>1.23236e-01</td>\n",
              "    </tr>\n",
              "    <tr>\n",
              "      <th>11</th>\n",
              "      <td>0.00000</td>\n",
              "      <td>1.32753e-03</td>\n",
              "    </tr>\n",
              "    <tr>\n",
              "      <th>12</th>\n",
              "      <td>0.09550</td>\n",
              "      <td>1.27625e-01</td>\n",
              "    </tr>\n",
              "    <tr>\n",
              "      <th>13</th>\n",
              "      <td>0.66000</td>\n",
              "      <td>5.57652e-01</td>\n",
              "    </tr>\n",
              "    <tr>\n",
              "      <th>14</th>\n",
              "      <td>0.01748</td>\n",
              "      <td>1.12460e-02</td>\n",
              "    </tr>\n",
              "    <tr>\n",
              "      <th>15</th>\n",
              "      <td>0.44407</td>\n",
              "      <td>5.82089e-01</td>\n",
              "    </tr>\n",
              "    <tr>\n",
              "      <th>16</th>\n",
              "      <td>0.00000</td>\n",
              "      <td>1.83801e-05</td>\n",
              "    </tr>\n",
              "    <tr>\n",
              "      <th>17</th>\n",
              "      <td>0.02700</td>\n",
              "      <td>2.44250e-02</td>\n",
              "    </tr>\n",
              "    <tr>\n",
              "      <th>18</th>\n",
              "      <td>0.18000</td>\n",
              "      <td>1.43000e-01</td>\n",
              "    </tr>\n",
              "    <tr>\n",
              "      <th>19</th>\n",
              "      <td>0.08813</td>\n",
              "      <td>1.96541e-01</td>\n",
              "    </tr>\n",
              "    <tr>\n",
              "      <th>20</th>\n",
              "      <td>0.00000</td>\n",
              "      <td>0.00000e+00</td>\n",
              "    </tr>\n",
              "    <tr>\n",
              "      <th>21</th>\n",
              "      <td>0.00160</td>\n",
              "      <td>2.40000e-03</td>\n",
              "    </tr>\n",
              "    <tr>\n",
              "      <th>22</th>\n",
              "      <td>0.00300</td>\n",
              "      <td>0.00000e+00</td>\n",
              "    </tr>\n",
              "    <tr>\n",
              "      <th>23</th>\n",
              "      <td>0.00800</td>\n",
              "      <td>1.66111e-02</td>\n",
              "    </tr>\n",
              "    <tr>\n",
              "      <th>24</th>\n",
              "      <td>0.01770</td>\n",
              "      <td>1.47500e-02</td>\n",
              "    </tr>\n",
              "    <tr>\n",
              "      <th>25</th>\n",
              "      <td>0.05333</td>\n",
              "      <td>4.58867e-02</td>\n",
              "    </tr>\n",
              "    <tr>\n",
              "      <th>26</th>\n",
              "      <td>0.02300</td>\n",
              "      <td>1.45000e-02</td>\n",
              "    </tr>\n",
              "    <tr>\n",
              "      <th>27</th>\n",
              "      <td>0.00000</td>\n",
              "      <td>1.29452e-03</td>\n",
              "    </tr>\n",
              "    <tr>\n",
              "      <th>28</th>\n",
              "      <td>0.00000</td>\n",
              "      <td>7.37334e-07</td>\n",
              "    </tr>\n",
              "    <tr>\n",
              "      <th>29</th>\n",
              "      <td>0.02290</td>\n",
              "      <td>3.40228e-02</td>\n",
              "    </tr>\n",
              "    <tr>\n",
              "      <th>30</th>\n",
              "      <td>0.00430</td>\n",
              "      <td>4.16066e-03</td>\n",
              "    </tr>\n",
              "    <tr>\n",
              "      <th>31</th>\n",
              "      <td>0.05200</td>\n",
              "      <td>5.20000e-02</td>\n",
              "    </tr>\n",
              "    <tr>\n",
              "      <th>32</th>\n",
              "      <td>0.04500</td>\n",
              "      <td>3.57996e-02</td>\n",
              "    </tr>\n",
              "    <tr>\n",
              "      <th>33</th>\n",
              "      <td>0.02150</td>\n",
              "      <td>2.27222e-02</td>\n",
              "    </tr>\n",
              "    <tr>\n",
              "      <th>34</th>\n",
              "      <td>0.03735</td>\n",
              "      <td>2.74354e-02</td>\n",
              "    </tr>\n",
              "    <tr>\n",
              "      <th>35</th>\n",
              "      <td>0.81825</td>\n",
              "      <td>9.58282e-01</td>\n",
              "    </tr>\n",
              "    <tr>\n",
              "      <th>36</th>\n",
              "      <td>0.00082</td>\n",
              "      <td>0.00000e+00</td>\n",
              "    </tr>\n",
              "    <tr>\n",
              "      <th>37</th>\n",
              "      <td>0.54085</td>\n",
              "      <td>4.22324e-01</td>\n",
              "    </tr>\n",
              "    <tr>\n",
              "      <th>38</th>\n",
              "      <td>0.02250</td>\n",
              "      <td>1.25012e-01</td>\n",
              "    </tr>\n",
              "    <tr>\n",
              "      <th>39</th>\n",
              "      <td>0.10824</td>\n",
              "      <td>4.72273e-02</td>\n",
              "    </tr>\n",
              "    <tr>\n",
              "      <th>40</th>\n",
              "      <td>0.00700</td>\n",
              "      <td>2.01088e-02</td>\n",
              "    </tr>\n",
              "  </tbody>\n",
              "</table>\n",
              "</div>"
            ],
            "text/plain": [
              "          0            1\n",
              "0   0.00000 -2.63640e-06\n",
              "1   0.02274  3.08866e-02\n",
              "2   0.01350  7.77153e-03\n",
              "3   0.01900  1.90000e-02\n",
              "4   0.02174  1.53441e-02\n",
              "5   0.20000  2.22129e-01\n",
              "6   0.03050  2.39200e-02\n",
              "7   0.01900  2.63139e-02\n",
              "8   0.00475  4.09832e-03\n",
              "9   0.00000  6.62090e-03\n",
              "10  0.10300  1.23236e-01\n",
              "11  0.00000  1.32753e-03\n",
              "12  0.09550  1.27625e-01\n",
              "13  0.66000  5.57652e-01\n",
              "14  0.01748  1.12460e-02\n",
              "15  0.44407  5.82089e-01\n",
              "16  0.00000  1.83801e-05\n",
              "17  0.02700  2.44250e-02\n",
              "18  0.18000  1.43000e-01\n",
              "19  0.08813  1.96541e-01\n",
              "20  0.00000  0.00000e+00\n",
              "21  0.00160  2.40000e-03\n",
              "22  0.00300  0.00000e+00\n",
              "23  0.00800  1.66111e-02\n",
              "24  0.01770  1.47500e-02\n",
              "25  0.05333  4.58867e-02\n",
              "26  0.02300  1.45000e-02\n",
              "27  0.00000  1.29452e-03\n",
              "28  0.00000  7.37334e-07\n",
              "29  0.02290  3.40228e-02\n",
              "30  0.00430  4.16066e-03\n",
              "31  0.05200  5.20000e-02\n",
              "32  0.04500  3.57996e-02\n",
              "33  0.02150  2.27222e-02\n",
              "34  0.03735  2.74354e-02\n",
              "35  0.81825  9.58282e-01\n",
              "36  0.00082  0.00000e+00\n",
              "37  0.54085  4.22324e-01\n",
              "38  0.02250  1.25012e-01\n",
              "39  0.10824  4.72273e-02\n",
              "40  0.00700  2.01088e-02"
            ]
          },
          "metadata": {
            "tags": []
          },
          "execution_count": 15
        }
      ]
    },
    {
      "cell_type": "code",
      "metadata": {
        "colab": {
          "base_uri": "https://localhost:8080/",
          "height": 111
        },
        "id": "i1-v2zXBUH6t",
        "outputId": "3b1b0865-4039-4609-cdf1-a44f63a96ae6"
      },
      "source": [
        "A.corr()"
      ],
      "execution_count": null,
      "outputs": [
        {
          "output_type": "execute_result",
          "data": {
            "text/html": [
              "<div>\n",
              "<style scoped>\n",
              "    .dataframe tbody tr th:only-of-type {\n",
              "        vertical-align: middle;\n",
              "    }\n",
              "\n",
              "    .dataframe tbody tr th {\n",
              "        vertical-align: top;\n",
              "    }\n",
              "\n",
              "    .dataframe thead th {\n",
              "        text-align: right;\n",
              "    }\n",
              "</style>\n",
              "<table border=\"1\" class=\"dataframe\">\n",
              "  <thead>\n",
              "    <tr style=\"text-align: right;\">\n",
              "      <th></th>\n",
              "      <th>0</th>\n",
              "      <th>1</th>\n",
              "    </tr>\n",
              "  </thead>\n",
              "  <tbody>\n",
              "    <tr>\n",
              "      <th>0</th>\n",
              "      <td>1.0000</td>\n",
              "      <td>0.9697</td>\n",
              "    </tr>\n",
              "    <tr>\n",
              "      <th>1</th>\n",
              "      <td>0.9697</td>\n",
              "      <td>1.0000</td>\n",
              "    </tr>\n",
              "  </tbody>\n",
              "</table>\n",
              "</div>"
            ],
            "text/plain": [
              "        0       1\n",
              "0  1.0000  0.9697\n",
              "1  0.9697  1.0000"
            ]
          },
          "metadata": {
            "tags": []
          },
          "execution_count": 16
        }
      ]
    },
    {
      "cell_type": "code",
      "metadata": {
        "id": "XnHWQVV-D6rK"
      },
      "source": [
        "L50_2=load('/content/drive/MyDrive/projet_long/L50_2.npy').tolist()"
      ],
      "execution_count": null,
      "outputs": []
    },
    {
      "cell_type": "code",
      "metadata": {
        "colab": {
          "base_uri": "https://localhost:8080/"
        },
        "id": "-EIxA6jfD6rM",
        "outputId": "07db280b-a202-4a56-ab78-f50ffd32fca4"
      },
      "source": [
        "type(L50)"
      ],
      "execution_count": null,
      "outputs": [
        {
          "output_type": "execute_result",
          "data": {
            "text/plain": [
              "list"
            ]
          },
          "metadata": {
            "tags": []
          },
          "execution_count": 18
        }
      ]
    },
    {
      "cell_type": "code",
      "metadata": {
        "colab": {
          "base_uri": "https://localhost:8080/",
          "height": 253
        },
        "id": "etgCHBE5D6rO",
        "outputId": "5807d061-8ba3-49a2-b7cc-d8663a0fd30c"
      },
      "source": [
        "fichier=\"/content/drive/MyDrive/projet_long/50COMPLETED_MED_2_400.csv\"\n",
        "dfCOMP_TEST_2 = pd.read_csv(fichier,sep=\";\")\n",
        "dfCOMP_TEST_2.head()"
      ],
      "execution_count": null,
      "outputs": [
        {
          "output_type": "execute_result",
          "data": {
            "text/html": [
              "<div>\n",
              "<style scoped>\n",
              "    .dataframe tbody tr th:only-of-type {\n",
              "        vertical-align: middle;\n",
              "    }\n",
              "\n",
              "    .dataframe tbody tr th {\n",
              "        vertical-align: top;\n",
              "    }\n",
              "\n",
              "    .dataframe thead th {\n",
              "        text-align: right;\n",
              "    }\n",
              "</style>\n",
              "<table border=\"1\" class=\"dataframe\">\n",
              "  <thead>\n",
              "    <tr style=\"text-align: right;\">\n",
              "      <th></th>\n",
              "      <th>total_chla_5_0</th>\n",
              "      <th>total_chla_13_92</th>\n",
              "      <th>total_chla_23_23</th>\n",
              "      <th>total_chla_38_75</th>\n",
              "      <th>total_chla_64_63</th>\n",
              "      <th>total_chla_107_81</th>\n",
              "      <th>total_chla_179_85</th>\n",
              "      <th>DVchla_5_0</th>\n",
              "      <th>DVchla_13_92</th>\n",
              "      <th>DVchla_23_23</th>\n",
              "      <th>...</th>\n",
              "      <th>perid_64_63</th>\n",
              "      <th>perid_107_81</th>\n",
              "      <th>perid_179_85</th>\n",
              "      <th>zeax_5_0</th>\n",
              "      <th>zeax_13_92</th>\n",
              "      <th>zeax_23_23</th>\n",
              "      <th>zeax_38_75</th>\n",
              "      <th>zeax_64_63</th>\n",
              "      <th>zeax_107_81</th>\n",
              "      <th>zeax_179_85</th>\n",
              "    </tr>\n",
              "  </thead>\n",
              "  <tbody>\n",
              "    <tr>\n",
              "      <th>0</th>\n",
              "      <td>0.30900</td>\n",
              "      <td>0.48300</td>\n",
              "      <td>0.87500</td>\n",
              "      <td>1.15500</td>\n",
              "      <td>0.71800</td>\n",
              "      <td>0.75700</td>\n",
              "      <td>0.04700</td>\n",
              "      <td>0.00000</td>\n",
              "      <td>0.00000</td>\n",
              "      <td>0.00000</td>\n",
              "      <td>...</td>\n",
              "      <td>0.02400</td>\n",
              "      <td>0.0180</td>\n",
              "      <td>0.0</td>\n",
              "      <td>0.00300</td>\n",
              "      <td>0.00500</td>\n",
              "      <td>0.01100</td>\n",
              "      <td>0.01050</td>\n",
              "      <td>0.00700</td>\n",
              "      <td>0.01067</td>\n",
              "      <td>0.0000</td>\n",
              "    </tr>\n",
              "    <tr>\n",
              "      <th>1</th>\n",
              "      <td>0.15600</td>\n",
              "      <td>0.15700</td>\n",
              "      <td>0.06500</td>\n",
              "      <td>0.26750</td>\n",
              "      <td>0.41500</td>\n",
              "      <td>0.21900</td>\n",
              "      <td>0.02550</td>\n",
              "      <td>0.00000</td>\n",
              "      <td>0.00000</td>\n",
              "      <td>0.00000</td>\n",
              "      <td>...</td>\n",
              "      <td>0.02550</td>\n",
              "      <td>0.0040</td>\n",
              "      <td>0.0</td>\n",
              "      <td>0.03900</td>\n",
              "      <td>0.04900</td>\n",
              "      <td>0.02000</td>\n",
              "      <td>0.04750</td>\n",
              "      <td>0.02000</td>\n",
              "      <td>0.00367</td>\n",
              "      <td>0.0005</td>\n",
              "    </tr>\n",
              "    <tr>\n",
              "      <th>2</th>\n",
              "      <td>0.09472</td>\n",
              "      <td>0.06307</td>\n",
              "      <td>0.08560</td>\n",
              "      <td>0.24183</td>\n",
              "      <td>0.29462</td>\n",
              "      <td>0.02910</td>\n",
              "      <td>0.00899</td>\n",
              "      <td>0.00648</td>\n",
              "      <td>0.00635</td>\n",
              "      <td>0.00704</td>\n",
              "      <td>...</td>\n",
              "      <td>0.00189</td>\n",
              "      <td>0.0000</td>\n",
              "      <td>0.0</td>\n",
              "      <td>0.04304</td>\n",
              "      <td>0.02997</td>\n",
              "      <td>0.03877</td>\n",
              "      <td>0.05342</td>\n",
              "      <td>0.01934</td>\n",
              "      <td>0.00000</td>\n",
              "      <td>0.0000</td>\n",
              "    </tr>\n",
              "    <tr>\n",
              "      <th>3</th>\n",
              "      <td>0.09657</td>\n",
              "      <td>0.07584</td>\n",
              "      <td>0.13969</td>\n",
              "      <td>0.21097</td>\n",
              "      <td>0.30578</td>\n",
              "      <td>0.02291</td>\n",
              "      <td>0.00622</td>\n",
              "      <td>0.01217</td>\n",
              "      <td>0.00881</td>\n",
              "      <td>0.01680</td>\n",
              "      <td>...</td>\n",
              "      <td>0.00281</td>\n",
              "      <td>0.0000</td>\n",
              "      <td>0.0</td>\n",
              "      <td>0.04974</td>\n",
              "      <td>0.02997</td>\n",
              "      <td>0.05318</td>\n",
              "      <td>0.04783</td>\n",
              "      <td>0.02308</td>\n",
              "      <td>0.00000</td>\n",
              "      <td>0.0000</td>\n",
              "    </tr>\n",
              "    <tr>\n",
              "      <th>4</th>\n",
              "      <td>0.32600</td>\n",
              "      <td>0.34200</td>\n",
              "      <td>0.33600</td>\n",
              "      <td>0.32200</td>\n",
              "      <td>0.09450</td>\n",
              "      <td>0.05150</td>\n",
              "      <td>0.14167</td>\n",
              "      <td>0.00000</td>\n",
              "      <td>0.00000</td>\n",
              "      <td>0.00000</td>\n",
              "      <td>...</td>\n",
              "      <td>0.00150</td>\n",
              "      <td>0.0005</td>\n",
              "      <td>0.0</td>\n",
              "      <td>0.00690</td>\n",
              "      <td>0.00660</td>\n",
              "      <td>0.00675</td>\n",
              "      <td>0.00615</td>\n",
              "      <td>0.00485</td>\n",
              "      <td>0.00145</td>\n",
              "      <td>0.0021</td>\n",
              "    </tr>\n",
              "  </tbody>\n",
              "</table>\n",
              "<p>5 rows × 42 columns</p>\n",
              "</div>"
            ],
            "text/plain": [
              "   total_chla_5_0  total_chla_13_92  total_chla_23_23  total_chla_38_75  \\\n",
              "0         0.30900           0.48300           0.87500           1.15500   \n",
              "1         0.15600           0.15700           0.06500           0.26750   \n",
              "2         0.09472           0.06307           0.08560           0.24183   \n",
              "3         0.09657           0.07584           0.13969           0.21097   \n",
              "4         0.32600           0.34200           0.33600           0.32200   \n",
              "\n",
              "   total_chla_64_63  total_chla_107_81  total_chla_179_85  DVchla_5_0  \\\n",
              "0           0.71800            0.75700            0.04700     0.00000   \n",
              "1           0.41500            0.21900            0.02550     0.00000   \n",
              "2           0.29462            0.02910            0.00899     0.00648   \n",
              "3           0.30578            0.02291            0.00622     0.01217   \n",
              "4           0.09450            0.05150            0.14167     0.00000   \n",
              "\n",
              "   DVchla_13_92  DVchla_23_23  ...  perid_64_63  perid_107_81  perid_179_85  \\\n",
              "0       0.00000       0.00000  ...      0.02400        0.0180           0.0   \n",
              "1       0.00000       0.00000  ...      0.02550        0.0040           0.0   \n",
              "2       0.00635       0.00704  ...      0.00189        0.0000           0.0   \n",
              "3       0.00881       0.01680  ...      0.00281        0.0000           0.0   \n",
              "4       0.00000       0.00000  ...      0.00150        0.0005           0.0   \n",
              "\n",
              "   zeax_5_0  zeax_13_92  zeax_23_23  zeax_38_75  zeax_64_63  zeax_107_81  \\\n",
              "0   0.00300     0.00500     0.01100     0.01050     0.00700      0.01067   \n",
              "1   0.03900     0.04900     0.02000     0.04750     0.02000      0.00367   \n",
              "2   0.04304     0.02997     0.03877     0.05342     0.01934      0.00000   \n",
              "3   0.04974     0.02997     0.05318     0.04783     0.02308      0.00000   \n",
              "4   0.00690     0.00660     0.00675     0.00615     0.00485      0.00145   \n",
              "\n",
              "   zeax_179_85  \n",
              "0       0.0000  \n",
              "1       0.0005  \n",
              "2       0.0000  \n",
              "3       0.0000  \n",
              "4       0.0021  \n",
              "\n",
              "[5 rows x 42 columns]"
            ]
          },
          "metadata": {
            "tags": []
          },
          "execution_count": 19
        }
      ]
    },
    {
      "cell_type": "code",
      "metadata": {
        "colab": {
          "base_uri": "https://localhost:8080/"
        },
        "id": "WQKHM9LFD6rQ",
        "outputId": "383c7e0d-3b83-429e-b3ec-3992f4e01262"
      },
      "source": [
        "values_completed_2=[]\n",
        "for i in range(len(L50_2)):\n",
        "  values_completed_2.append(dfCOMP_TEST_2.iloc[L50_2[i][0],L50_2[i][1]-1])\n",
        "  print(dfCOMP_TEST_2.iloc[L50_2[i][0],L50_2[i][1]-1])"
      ],
      "execution_count": null,
      "outputs": [
        {
          "output_type": "stream",
          "text": [
            "0.0374555553333333\n",
            "0.0201266712403284\n",
            "0.00275\n",
            "0.0449865005\n",
            "0.0221166666666667\n",
            "0.229654680831418\n",
            "0.014575\n",
            "0.4949333335\n",
            "0.0116666666666667\n",
            "0.333621406248098\n",
            "-1.7347234759768098e-18\n",
            "0.013930448\n",
            "0.695075\n",
            "0.0182342258213864\n",
            "0.101933333333333\n",
            "0.0925\n",
            "0.0247894973333333\n",
            "0.03055\n",
            "0.131650551563547\n",
            "0.00434189174212353\n",
            "0.0285666666666667\n",
            "0.56516\n",
            "-1.7347234759768098e-18\n",
            "-1.4933960384052798e-06\n",
            "0.0279498656369308\n",
            "0.1276726115\n",
            "0.0015275673780150002\n",
            "0.00244487160118348\n",
            "0.00680502576294872\n",
            "0.003649672375\n",
            "0.43485\n",
            "0.00229632166666667\n",
            "0.0171977564444444\n",
            "0.0006394143333333309\n",
            "0.267148837317317\n",
            "0.0\n",
            "0.00231\n",
            "0.2877875\n",
            "0.0018342874652106898\n",
            "0.00309070047709118\n",
            "0.0\n"
          ],
          "name": "stdout"
        }
      ]
    },
    {
      "cell_type": "code",
      "metadata": {
        "colab": {
          "base_uri": "https://localhost:8080/"
        },
        "id": "k-M3mQoRD6rQ",
        "outputId": "e20da096-31eb-47c7-99b0-d0914383aff5"
      },
      "source": [
        "target_values_2=[]\n",
        "for i in range(len(L50_2)):\n",
        "  target_values_2.append(df50.iloc[L50_2[i][0],L50_2[i][1]])\n",
        "  print(df50.iloc[L50_2[i][0],L50_2[i][1]])"
      ],
      "execution_count": null,
      "outputs": [
        {
          "output_type": "stream",
          "text": [
            "0.040466667000000005\n",
            "0.02428406\n",
            "0.0\n",
            "0.05249079\n",
            "0.012\n",
            "0.2984\n",
            "0.011\n",
            "1.197\n",
            "0.014\n",
            "0.366\n",
            "0.0\n",
            "0.0075\n",
            "1.0385\n",
            "0.0166\n",
            "0.0981\n",
            "0.085\n",
            "0.0233\n",
            "0.037000000000000005\n",
            "0.0235\n",
            "0.0021\n",
            "0.048\n",
            "0.5504\n",
            "0.0\n",
            "0.0\n",
            "0.0\n",
            "0.0445\n",
            "0.0\n",
            "0.0\n",
            "0.0106\n",
            "0.006453986\n",
            "0.6669\n",
            "0.026\n",
            "0.023666667\n",
            "0.0023373770000000003\n",
            "0.2905\n",
            "0.0\n",
            "0.0\n",
            "0.3127\n",
            "0.0\n",
            "0.0065\n",
            "0.0\n"
          ],
          "name": "stdout"
        }
      ]
    },
    {
      "cell_type": "code",
      "metadata": {
        "id": "UdVn7mjeFNRK"
      },
      "source": [
        "L50_1=load('/content/drive/MyDrive/projet_long/L50_1.npy').tolist()"
      ],
      "execution_count": null,
      "outputs": []
    },
    {
      "cell_type": "code",
      "metadata": {
        "colab": {
          "base_uri": "https://localhost:8080/",
          "height": 253
        },
        "id": "eG5UM83oFNRf",
        "outputId": "63730a02-df45-486c-8963-2b72881227b6"
      },
      "source": [
        "fichier=\"/content/drive/MyDrive/projet_long/50COMPLETED_MED_1_400.csv\"\n",
        "dfCOMP_TEST_1 = pd.read_csv(fichier,sep=\";\")\n",
        "dfCOMP_TEST_1.head()"
      ],
      "execution_count": null,
      "outputs": [
        {
          "output_type": "execute_result",
          "data": {
            "text/html": [
              "<div>\n",
              "<style scoped>\n",
              "    .dataframe tbody tr th:only-of-type {\n",
              "        vertical-align: middle;\n",
              "    }\n",
              "\n",
              "    .dataframe tbody tr th {\n",
              "        vertical-align: top;\n",
              "    }\n",
              "\n",
              "    .dataframe thead th {\n",
              "        text-align: right;\n",
              "    }\n",
              "</style>\n",
              "<table border=\"1\" class=\"dataframe\">\n",
              "  <thead>\n",
              "    <tr style=\"text-align: right;\">\n",
              "      <th></th>\n",
              "      <th>total_chla_5_0</th>\n",
              "      <th>total_chla_13_92</th>\n",
              "      <th>total_chla_23_23</th>\n",
              "      <th>total_chla_38_75</th>\n",
              "      <th>total_chla_64_63</th>\n",
              "      <th>total_chla_107_81</th>\n",
              "      <th>total_chla_179_85</th>\n",
              "      <th>DVchla_5_0</th>\n",
              "      <th>DVchla_13_92</th>\n",
              "      <th>DVchla_23_23</th>\n",
              "      <th>...</th>\n",
              "      <th>perid_64_63</th>\n",
              "      <th>perid_107_81</th>\n",
              "      <th>perid_179_85</th>\n",
              "      <th>zeax_5_0</th>\n",
              "      <th>zeax_13_92</th>\n",
              "      <th>zeax_23_23</th>\n",
              "      <th>zeax_38_75</th>\n",
              "      <th>zeax_64_63</th>\n",
              "      <th>zeax_107_81</th>\n",
              "      <th>zeax_179_85</th>\n",
              "    </tr>\n",
              "  </thead>\n",
              "  <tbody>\n",
              "    <tr>\n",
              "      <th>0</th>\n",
              "      <td>0.30900</td>\n",
              "      <td>0.48300</td>\n",
              "      <td>0.87500</td>\n",
              "      <td>1.15500</td>\n",
              "      <td>0.71800</td>\n",
              "      <td>0.75700</td>\n",
              "      <td>0.04700</td>\n",
              "      <td>0.00000</td>\n",
              "      <td>0.00000</td>\n",
              "      <td>0.00000</td>\n",
              "      <td>...</td>\n",
              "      <td>0.02400</td>\n",
              "      <td>0.01800</td>\n",
              "      <td>0.00000</td>\n",
              "      <td>0.00300</td>\n",
              "      <td>0.00500</td>\n",
              "      <td>0.01100</td>\n",
              "      <td>0.01050</td>\n",
              "      <td>0.00700</td>\n",
              "      <td>0.01067</td>\n",
              "      <td>0.00000</td>\n",
              "    </tr>\n",
              "    <tr>\n",
              "      <th>1</th>\n",
              "      <td>0.15600</td>\n",
              "      <td>0.15700</td>\n",
              "      <td>0.06500</td>\n",
              "      <td>0.26750</td>\n",
              "      <td>0.41500</td>\n",
              "      <td>0.21900</td>\n",
              "      <td>0.02550</td>\n",
              "      <td>0.00000</td>\n",
              "      <td>0.00000</td>\n",
              "      <td>0.00000</td>\n",
              "      <td>...</td>\n",
              "      <td>0.02550</td>\n",
              "      <td>0.00400</td>\n",
              "      <td>0.00000</td>\n",
              "      <td>0.03900</td>\n",
              "      <td>0.04900</td>\n",
              "      <td>0.02000</td>\n",
              "      <td>0.04750</td>\n",
              "      <td>0.02000</td>\n",
              "      <td>0.00367</td>\n",
              "      <td>0.00050</td>\n",
              "    </tr>\n",
              "    <tr>\n",
              "      <th>2</th>\n",
              "      <td>0.09472</td>\n",
              "      <td>0.08156</td>\n",
              "      <td>0.08560</td>\n",
              "      <td>0.24183</td>\n",
              "      <td>0.29462</td>\n",
              "      <td>0.02910</td>\n",
              "      <td>0.03470</td>\n",
              "      <td>0.00648</td>\n",
              "      <td>0.00294</td>\n",
              "      <td>0.00704</td>\n",
              "      <td>...</td>\n",
              "      <td>0.00189</td>\n",
              "      <td>0.00000</td>\n",
              "      <td>0.00035</td>\n",
              "      <td>0.04304</td>\n",
              "      <td>0.02944</td>\n",
              "      <td>0.03877</td>\n",
              "      <td>0.05342</td>\n",
              "      <td>0.01934</td>\n",
              "      <td>0.00000</td>\n",
              "      <td>0.00081</td>\n",
              "    </tr>\n",
              "    <tr>\n",
              "      <th>3</th>\n",
              "      <td>0.09657</td>\n",
              "      <td>0.14567</td>\n",
              "      <td>0.13969</td>\n",
              "      <td>0.21097</td>\n",
              "      <td>0.30578</td>\n",
              "      <td>0.02291</td>\n",
              "      <td>0.00622</td>\n",
              "      <td>0.01217</td>\n",
              "      <td>0.00281</td>\n",
              "      <td>0.01680</td>\n",
              "      <td>...</td>\n",
              "      <td>0.00281</td>\n",
              "      <td>0.00087</td>\n",
              "      <td>0.00000</td>\n",
              "      <td>0.04974</td>\n",
              "      <td>0.04433</td>\n",
              "      <td>0.05318</td>\n",
              "      <td>0.04783</td>\n",
              "      <td>0.02308</td>\n",
              "      <td>0.00000</td>\n",
              "      <td>0.00000</td>\n",
              "    </tr>\n",
              "    <tr>\n",
              "      <th>4</th>\n",
              "      <td>0.32600</td>\n",
              "      <td>0.34200</td>\n",
              "      <td>0.33600</td>\n",
              "      <td>0.32200</td>\n",
              "      <td>0.09450</td>\n",
              "      <td>0.05150</td>\n",
              "      <td>0.14167</td>\n",
              "      <td>0.00000</td>\n",
              "      <td>0.00000</td>\n",
              "      <td>0.00000</td>\n",
              "      <td>...</td>\n",
              "      <td>0.00150</td>\n",
              "      <td>0.00050</td>\n",
              "      <td>0.00000</td>\n",
              "      <td>0.00530</td>\n",
              "      <td>0.00506</td>\n",
              "      <td>0.00484</td>\n",
              "      <td>0.00470</td>\n",
              "      <td>0.00442</td>\n",
              "      <td>0.00368</td>\n",
              "      <td>0.00295</td>\n",
              "    </tr>\n",
              "  </tbody>\n",
              "</table>\n",
              "<p>5 rows × 42 columns</p>\n",
              "</div>"
            ],
            "text/plain": [
              "   total_chla_5_0  total_chla_13_92  total_chla_23_23  total_chla_38_75  \\\n",
              "0         0.30900           0.48300           0.87500           1.15500   \n",
              "1         0.15600           0.15700           0.06500           0.26750   \n",
              "2         0.09472           0.08156           0.08560           0.24183   \n",
              "3         0.09657           0.14567           0.13969           0.21097   \n",
              "4         0.32600           0.34200           0.33600           0.32200   \n",
              "\n",
              "   total_chla_64_63  total_chla_107_81  total_chla_179_85  DVchla_5_0  \\\n",
              "0           0.71800            0.75700            0.04700     0.00000   \n",
              "1           0.41500            0.21900            0.02550     0.00000   \n",
              "2           0.29462            0.02910            0.03470     0.00648   \n",
              "3           0.30578            0.02291            0.00622     0.01217   \n",
              "4           0.09450            0.05150            0.14167     0.00000   \n",
              "\n",
              "   DVchla_13_92  DVchla_23_23  ...  perid_64_63  perid_107_81  perid_179_85  \\\n",
              "0       0.00000       0.00000  ...      0.02400       0.01800       0.00000   \n",
              "1       0.00000       0.00000  ...      0.02550       0.00400       0.00000   \n",
              "2       0.00294       0.00704  ...      0.00189       0.00000       0.00035   \n",
              "3       0.00281       0.01680  ...      0.00281       0.00087       0.00000   \n",
              "4       0.00000       0.00000  ...      0.00150       0.00050       0.00000   \n",
              "\n",
              "   zeax_5_0  zeax_13_92  zeax_23_23  zeax_38_75  zeax_64_63  zeax_107_81  \\\n",
              "0   0.00300     0.00500     0.01100     0.01050     0.00700      0.01067   \n",
              "1   0.03900     0.04900     0.02000     0.04750     0.02000      0.00367   \n",
              "2   0.04304     0.02944     0.03877     0.05342     0.01934      0.00000   \n",
              "3   0.04974     0.04433     0.05318     0.04783     0.02308      0.00000   \n",
              "4   0.00530     0.00506     0.00484     0.00470     0.00442      0.00368   \n",
              "\n",
              "   zeax_179_85  \n",
              "0      0.00000  \n",
              "1      0.00050  \n",
              "2      0.00081  \n",
              "3      0.00000  \n",
              "4      0.00295  \n",
              "\n",
              "[5 rows x 42 columns]"
            ]
          },
          "metadata": {
            "tags": []
          },
          "execution_count": 23
        }
      ]
    },
    {
      "cell_type": "code",
      "metadata": {
        "colab": {
          "base_uri": "https://localhost:8080/"
        },
        "id": "cq4DAKHtFNRg",
        "outputId": "a39a33b5-6582-46d6-a3d1-f7da806511be"
      },
      "source": [
        "values_completed_1=[]\n",
        "for i in range(len(L50_1)):\n",
        "  values_completed_1.append(dfCOMP_TEST_1.iloc[L50_1[i][0],L50_1[i][1]-1])\n",
        "  print(dfCOMP_TEST_1.iloc[L50_1[i][0],L50_1[i][1]-1])"
      ],
      "execution_count": null,
      "outputs": [
        {
          "output_type": "stream",
          "text": [
            "0.017\n",
            "0.0230555555555556\n",
            "0.2173333335\n",
            "0.0101806155833333\n",
            "0.0200145709898799\n",
            "0.000990000000000001\n",
            "0.0153704957916667\n",
            "0.004225\n",
            "0.0009120370370370381\n",
            "0.0292577091163748\n",
            "0.17803541675\n",
            "0.0\n",
            "0.0212875\n",
            "0.0015223548645769901\n",
            "0.00542\n",
            "0.0204794251423958\n",
            "0.040953949875\n",
            "0.13080625\n",
            "0.0101806155833333\n",
            "0.00642\n",
            "0.000666666666666667\n",
            "0.039175\n",
            "0.0\n",
            "0.0104695341666667\n",
            "0.00533333333333334\n",
            "0.1590533334\n",
            "0.0993535976666667\n",
            "0.0008717709646477059\n",
            "0.0253\n",
            "0.0025833333333333303\n",
            "0.0\n",
            "0.0166539531684569\n",
            "0.0376062191966603\n",
            "0.0088\n",
            "0.00133125\n",
            "0.004975\n",
            "0.0774576191370544\n",
            "0.009243878378329191\n",
            "0.00530114172782545\n",
            "0.0475375\n",
            "0.262041364\n"
          ],
          "name": "stdout"
        }
      ]
    },
    {
      "cell_type": "code",
      "metadata": {
        "colab": {
          "base_uri": "https://localhost:8080/"
        },
        "id": "sUa74L0KFNRg",
        "outputId": "2517c6bf-4c3d-407b-ddec-5e1566023704"
      },
      "source": [
        "target_values_1=[]\n",
        "for i in range(len(L50_1)):\n",
        "  target_values_1.append(df50.iloc[L50_1[i][0],L50_1[i][1]])\n",
        "  print(df50.iloc[L50_1[i][0],L50_1[i][1]])"
      ],
      "execution_count": null,
      "outputs": [
        {
          "output_type": "stream",
          "text": [
            "0.0\n",
            "0.023\n",
            "0.13699999999999998\n",
            "0.006666666999999999\n",
            "0.013607535\n",
            "0.0\n",
            "0.017071611\n",
            "0.0051\n",
            "0.0\n",
            "0.024866667\n",
            "0.2412\n",
            "0.0\n",
            "0.0401\n",
            "0.0\n",
            "0.0057\n",
            "0.0052\n",
            "0.0433330555\n",
            "0.2117\n",
            "0.016417225\n",
            "0.004133333\n",
            "0.0\n",
            "0.0494\n",
            "0.0\n",
            "0.010184722\n",
            "0.004\n",
            "0.2165\n",
            "0.132\n",
            "0.0\n",
            "0.0734\n",
            "0.0005\n",
            "0.0\n",
            "0.014\n",
            "0.03\n",
            "0.004\n",
            "0.001\n",
            "0.00715212\n",
            "0.054333333\n",
            "0.006999999999999999\n",
            "0.004\n",
            "0.0444\n",
            "0.256166667\n"
          ],
          "name": "stdout"
        }
      ]
    },
    {
      "cell_type": "code",
      "metadata": {
        "colab": {
          "base_uri": "https://localhost:8080/",
          "height": 592
        },
        "id": "NjidWKyiDBqY",
        "outputId": "b07f6920-3209-4ff2-bf2c-f69bb8bbc250"
      },
      "source": [
        "plt.figure(figsize=(10,10*1/1.2))\n",
        "plt.scatter(target_values,values_completed,label='test 1')\n",
        "plt.scatter(target_values_2,values_completed_2,label='test 2')\n",
        "plt.scatter(target_values_1,values_completed_1,label='test 3')\n",
        "ax=plt.subplot(111)\n",
        "ax.plot([0,1],[0,1], transform=ax.transAxes,c='black')\n",
        "plt.xlabel('valeurs initiales')\n",
        "plt.ylabel('valeurs complétées')\n",
        "plt.xlim(0,1.2)\n",
        "plt.ylim(0,1.2)\n",
        "plt.legend();"
      ],
      "execution_count": null,
      "outputs": [
        {
          "output_type": "stream",
          "text": [
            "/usr/local/lib/python3.7/dist-packages/ipykernel_launcher.py:5: MatplotlibDeprecationWarning: Adding an axes using the same arguments as a previous axes currently reuses the earlier instance.  In a future version, a new instance will always be created and returned.  Meanwhile, this warning can be suppressed, and the future behavior ensured, by passing a unique label to each axes instance.\n",
            "  \"\"\"\n"
          ],
          "name": "stderr"
        },
        {
          "output_type": "display_data",
          "data": {
            "image/png": "[encoded data removed]",
            "text/plain": [
              "<Figure size 720x600 with 1 Axes>"
            ]
          },
          "metadata": {
            "tags": [],
            "needs_background": "light"
          }
        }
      ]
    },
    {
      "cell_type": "code",
      "metadata": {
        "id": "zCHqrIVTFsbT"
      },
      "source": [
        "from scipy.stats import linregress\n",
        "slope, intercept, r_value, p_value, std_err = scipy.stats.linregress(np.concatenate([target_values,target_values_2,target_values_1]), np.concatenate([values_completed,values_completed_2,values_completed_1]))"
      ],
      "execution_count": null,
      "outputs": []
    },
    {
      "cell_type": "code",
      "metadata": {
        "colab": {
          "base_uri": "https://localhost:8080/"
        },
        "id": "lV4EP_q303BI",
        "outputId": "aa42b5ef-2b8b-47fc-ea97-a5e02a0bc433"
      },
      "source": [
        "r_value"
      ],
      "execution_count": null,
      "outputs": [
        {
          "output_type": "execute_result",
          "data": {
            "text/plain": [
              "0.9202914083611523"
            ]
          },
          "metadata": {
            "tags": []
          },
          "execution_count": 28
        }
      ]
    },
    {
      "cell_type": "code",
      "metadata": {
        "colab": {
          "base_uri": "https://localhost:8080/",
          "height": 163
        },
        "id": "o8evPQM5GJuV",
        "outputId": "f5ade9f7-f21e-4666-b29f-c55b15623a82"
      },
      "source": [
        "r_value_1"
      ],
      "execution_count": null,
      "outputs": [
        {
          "output_type": "error",
          "ename": "NameError",
          "evalue": "ignored",
          "traceback": [
            "\u001b[0;31m---------------------------------------------------------------------------\u001b[0m",
            "\u001b[0;31mNameError\u001b[0m                                 Traceback (most recent call last)",
            "\u001b[0;32m<ipython-input-29-df068ada9609>\u001b[0m in \u001b[0;36m<module>\u001b[0;34m()\u001b[0m\n\u001b[0;32m----> 1\u001b[0;31m \u001b[0mr_value_1\u001b[0m\u001b[0;34m\u001b[0m\u001b[0;34m\u001b[0m\u001b[0m\n\u001b[0m",
            "\u001b[0;31mNameError\u001b[0m: name 'r_value_1' is not defined"
          ]
        }
      ]
    },
    {
      "cell_type": "code",
      "metadata": {
        "id": "qFDdfrJlGLY1"
      },
      "source": [
        "r_value_2"
      ],
      "execution_count": null,
      "outputs": []
    }
  ]
}